{
 "cells": [
  {
   "cell_type": "markdown",
   "id": "5515dd3d",
   "metadata": {
    "panel-layout": {
     "height": 68.59375,
     "visible": true,
     "width": 100
    }
   },
   "source": [
    "# Charge analysis - исследование чарджей\n",
    "___"
   ]
  },
  {
   "cell_type": "markdown",
   "id": "ba014a53",
   "metadata": {
    "panel-layout": {
     "height": 231.125,
     "visible": true,
     "width": 100
    }
   },
   "source": [
    "**Цель исследования** - изучить данные о замороженных фродерах в категории charge. Попытаемся узнать особенности фродеров и что может быть общего в их поведении, чтобы в будущем предотвратить риски.\n",
    "\n",
    "В нашем распоряжении есть данные о блокировках пользователей в период **с 2023-09-16 по 2024-09-16**, где указаны такие данные, как дата блокировки, айди юзера, категория, с которой был заморожен пользователь и валюта пользователя.\n",
    "\n",
    "**План исследования:**\n",
    "1) Предобработка данных\n",
    "\n",
    "2) Исследовательский анализ\n",
    "\n",
    "3) Вывод"
   ]
  },
  {
   "cell_type": "markdown",
   "id": "b81708d0",
   "metadata": {
    "panel-layout": {
     "height": 111.1015625,
     "visible": true,
     "width": 100
    }
   },
   "source": [
    "## Предобработка\n",
    "___\n",
    "\n",
    "В этом разделе импортируем библиотеки и загрузим необходимые данные. Далее подготовим их, чтобы они стали более \"чистыми\" для анализа. Вероятно, придется загружать дополнительные данные, но для начала рассмотрим данные о заморозке из таблицы folex_locked."
   ]
  },
  {
   "cell_type": "markdown",
   "id": "8cb23414",
   "metadata": {
    "panel-layout": {
     "height": 167.703125,
     "visible": true,
     "width": 100
    }
   },
   "source": [
    "**План:**\n",
    "\n",
    "1) Убираем ненужные столбцы, пропущенные данные, приведем тип данных для дат\n",
    "\n",
    "2) Приводим названия категорий к одинаковым и срезаем датафрейм\n",
    "\n",
    "3) Избавимся от дубликатов\n",
    "\n",
    "4) Выгружаем список айди и добавим из базы новые данные с пополнениями"
   ]
  },
  {
   "cell_type": "code",
   "execution_count": 1,
   "id": "d9ff5eae",
   "metadata": {
    "panel-layout": {
     "height": 0,
     "visible": true,
     "width": 100
    }
   },
   "outputs": [],
   "source": [
    "# импорт библиотек\n",
    "import pandas as pd\n",
    "from matplotlib import pyplot as plt\n",
    "import seaborn as sns\n",
    "import numpy as np\n",
    "from datetime import datetime, timedelta\n",
    "import datetime as dt\n",
    "\n",
    "import warnings\n",
    "warnings.filterwarnings(\"ignore\")"
   ]
  },
  {
   "cell_type": "markdown",
   "id": "5cd7675a-ee93-4e9f-ba52-8bbebc665791",
   "metadata": {},
   "source": [
    "### Замороженные пользователи"
   ]
  },
  {
   "cell_type": "code",
   "execution_count": 2,
   "id": "d3fca95d",
   "metadata": {
    "panel-layout": {
     "height": 0,
     "visible": true,
     "width": 100
    }
   },
   "outputs": [
    {
     "name": "stdout",
     "output_type": "stream",
     "text": [
      "<class 'pandas.core.frame.DataFrame'>\n",
      "RangeIndex: 323097 entries, 0 to 323096\n",
      "Data columns (total 7 columns):\n",
      " #   Column      Non-Null Count   Dtype \n",
      "---  ------      --------------   ----- \n",
      " 0   date_block  323097 non-null  object\n",
      " 1   user_id     323097 non-null  int64 \n",
      " 2   category    323097 non-null  object\n",
      " 3   code        320859 non-null  object\n",
      " 4   project     323097 non-null  object\n",
      " 5   created_at  323097 non-null  object\n",
      " 6   updated_at  323097 non-null  object\n",
      "dtypes: int64(1), object(6)\n",
      "memory usage: 17.3+ MB\n"
     ]
    }
   ],
   "source": [
    "df = pd.read_csv('folex_locked_202409171824.csv') #данные выгружены за период с 2023-09-16 по 2024-09-16\n",
    "\n",
    "df.info()"
   ]
  },
  {
   "cell_type": "markdown",
   "id": "7c47393b",
   "metadata": {
    "panel-layout": {
     "height": 51.140625,
     "visible": true,
     "width": 100
    }
   },
   "source": [
    "Итак, имеем 323097 строк: избавимся от лишних данных и подготовим данные к анализу."
   ]
  },
  {
   "cell_type": "code",
   "execution_count": 3,
   "id": "e7553e98",
   "metadata": {
    "panel-layout": {
     "height": 167,
     "visible": true,
     "width": 100
    }
   },
   "outputs": [
    {
     "data": {
      "text/html": [
       "<div>\n",
       "<style scoped>\n",
       "    .dataframe tbody tr th:only-of-type {\n",
       "        vertical-align: middle;\n",
       "    }\n",
       "\n",
       "    .dataframe tbody tr th {\n",
       "        vertical-align: top;\n",
       "    }\n",
       "\n",
       "    .dataframe thead th {\n",
       "        text-align: right;\n",
       "    }\n",
       "</style>\n",
       "<table border=\"1\" class=\"dataframe\">\n",
       "  <thead>\n",
       "    <tr style=\"text-align: right;\">\n",
       "      <th></th>\n",
       "      <th>date_block</th>\n",
       "      <th>user_id</th>\n",
       "      <th>category</th>\n",
       "      <th>code</th>\n",
       "    </tr>\n",
       "  </thead>\n",
       "  <tbody>\n",
       "    <tr>\n",
       "      <th>15895</th>\n",
       "      <td>2023-09-16 21:00:00</td>\n",
       "      <td>13182863</td>\n",
       "      <td>Кардер</td>\n",
       "      <td>PLN</td>\n",
       "    </tr>\n",
       "    <tr>\n",
       "      <th>16128</th>\n",
       "      <td>2023-09-16 21:00:00</td>\n",
       "      <td>123211189</td>\n",
       "      <td>Послегольщик</td>\n",
       "      <td>UAH</td>\n",
       "    </tr>\n",
       "    <tr>\n",
       "      <th>16127</th>\n",
       "      <td>2023-09-16 21:00:00</td>\n",
       "      <td>123210431</td>\n",
       "      <td>Чипдампинг</td>\n",
       "      <td>BDT</td>\n",
       "    </tr>\n",
       "    <tr>\n",
       "      <th>16126</th>\n",
       "      <td>2023-09-16 21:00:00</td>\n",
       "      <td>123209941</td>\n",
       "      <td>Чипдампинг</td>\n",
       "      <td>BDT</td>\n",
       "    </tr>\n",
       "    <tr>\n",
       "      <th>16125</th>\n",
       "      <td>2023-09-16 21:00:00</td>\n",
       "      <td>123208947</td>\n",
       "      <td>Кардер</td>\n",
       "      <td>EUR</td>\n",
       "    </tr>\n",
       "  </tbody>\n",
       "</table>\n",
       "</div>"
      ],
      "text/plain": [
       "               date_block    user_id      category code\n",
       "15895 2023-09-16 21:00:00   13182863        Кардер  PLN\n",
       "16128 2023-09-16 21:00:00  123211189  Послегольщик  UAH\n",
       "16127 2023-09-16 21:00:00  123210431    Чипдампинг  BDT\n",
       "16126 2023-09-16 21:00:00  123209941    Чипдампинг  BDT\n",
       "16125 2023-09-16 21:00:00  123208947        Кардер  EUR"
      ]
     },
     "execution_count": 3,
     "metadata": {},
     "output_type": "execute_result"
    }
   ],
   "source": [
    "df.drop(df.columns[[4, 5, 6]], axis=1 , inplace=True) #убираем ненужные столбцы\n",
    "\n",
    "df['date_block'] = pd.to_datetime(df['date_block'], format='%Y-%m-%d %H:%M:%S') #изменим тип данных для дат\n",
    "\n",
    "df.sort_values('date_block', ascending=True).head()"
   ]
  },
  {
   "cell_type": "code",
   "execution_count": 4,
   "id": "61c4643b",
   "metadata": {
    "panel-layout": {
     "height": 141,
     "visible": true,
     "width": 100
    }
   },
   "outputs": [
    {
     "data": {
      "text/plain": [
       "date_block       0\n",
       "user_id          0\n",
       "category         0\n",
       "code          2238\n",
       "dtype: int64"
      ]
     },
     "execution_count": 4,
     "metadata": {},
     "output_type": "execute_result"
    }
   ],
   "source": [
    "df.isna().sum() #посмотрим пропущенные данные"
   ]
  },
  {
   "cell_type": "code",
   "execution_count": 5,
   "id": "543e811f",
   "metadata": {},
   "outputs": [],
   "source": [
    "#количество пропущенных данных ничтожно мало по отношению ко всему массиву, так что избавимся от них\n",
    "df = df.dropna()"
   ]
  },
  {
   "cell_type": "code",
   "execution_count": 6,
   "id": "1a43974f",
   "metadata": {
    "panel-layout": {
     "height": 249.96875,
     "visible": true,
     "width": 100
    }
   },
   "outputs": [
    {
     "data": {
      "text/plain": [
       "array(['Кардер', 'Послегольщик', 'Фин. фрод', 'Чипдампинг', 'Bonushunter',\n",
       "       'Charge', 'Фрод MBC', 'Valui', 'Фрод от Рефовода',\n",
       "       'Взлом аккаунта', 'Фрод от партнера', 'Professional', 'Фин. фрод ',\n",
       "       'Вилочник', 'Тимплей', 'Проданный аккаунт', 'Казино', 'Бот',\n",
       "       'Бонусхантер', 'fin', 'Chipdumping', 'Casino', 'Fin fraud',\n",
       "       'Poslegol', 'Vzlom account', 'Carder', 'MBC', 'Bot', 'Инсайдер',\n",
       "       'Vilki ', 'Bot ', 'Vilki', 'carder', 'FraudFromRef',\n",
       "       'Послегольщик ', 'Chimp', 'poslegol', 'Профи', 'Poslegol ',\n",
       "       'Prodan account', 'vzlom', 'Fraud from Referal', 'FIN', 'Chip ',\n",
       "       'chimp', 'Insider', ' FraudFromRef', 'charge ', 'Fraud MBC',\n",
       "       'charge', 'fraudFromPartner', 'Fraud from Partner', 'Послегольшик',\n",
       "       'Валуйщик ', 'Partner', 'Заморозка', 'Team', 'БХ',\n",
       "       'Продажа аккаунта', 'bh', 'Fin Fraud', 'Послегольщиу', 'Profi ',\n",
       "       'casino', 'Partners', 'vilki', 'valui', 'profi', 'bot',\n",
       "       'Псолегольщик', 'Взлом', 'Fin ', 'Вилочник ', 'Fin Fraud ',\n",
       "       'Послегол', 'MBC Senior', 'Вилки', 'Charg', 'Valui ', 'mbc', 'Bh',\n",
       "       'Fin fraud ', 'fraud MBC', 'Фин.фрод', 'Charged', 'Валуйщик'],\n",
       "      dtype=object)"
      ]
     },
     "execution_count": 6,
     "metadata": {},
     "output_type": "execute_result"
    }
   ],
   "source": [
    "df['category'].unique()"
   ]
  },
  {
   "cell_type": "markdown",
   "id": "9b6f3d1b",
   "metadata": {
    "panel-layout": {
     "height": 51.140625,
     "visible": true,
     "width": 100
    }
   },
   "source": [
    "Чтобы корректно срезать данные по нужной категории, надо привести все записи к единому стилю: строчные буквы, кириллица и убрать лишние пробелы."
   ]
  },
  {
   "cell_type": "code",
   "execution_count": 7,
   "id": "935c6625",
   "metadata": {
    "panel-layout": {
     "height": 0,
     "visible": true,
     "width": 100
    }
   },
   "outputs": [
    {
     "name": "stdout",
     "output_type": "stream",
     "text": [
      "<class 'pandas.core.frame.DataFrame'>\n",
      "Index: 9181 entries, 44 to 315902\n",
      "Data columns (total 4 columns):\n",
      " #   Column      Non-Null Count  Dtype         \n",
      "---  ------      --------------  -----         \n",
      " 0   date_block  9181 non-null   datetime64[ns]\n",
      " 1   user_id     9181 non-null   int64         \n",
      " 2   category    9181 non-null   object        \n",
      " 3   code        9181 non-null   object        \n",
      "dtypes: datetime64[ns](1), int64(1), object(2)\n",
      "memory usage: 358.6+ KB\n"
     ]
    }
   ],
   "source": [
    "category_charge = {\n",
    "    'Charge': 'charge',\n",
    "    'charge ': 'charge',\n",
    "    'charge': 'charge',\n",
    "    'Charg': 'charge',\n",
    "    'Charged': 'charge'\n",
    "}\n",
    "\n",
    "df['category'] = df['category'].replace(category_charge)\n",
    "\n",
    "df = df[df['category'] == 'charge'] #сделаем срез по категории\n",
    "\n",
    "df.info()"
   ]
  },
  {
   "cell_type": "markdown",
   "id": "a40832f2",
   "metadata": {
    "panel-layout": {
     "height": 51.140625,
     "visible": true,
     "width": 100
    }
   },
   "source": [
    "Данных осталось 9181 строк. Двигаемся дальше."
   ]
  },
  {
   "cell_type": "code",
   "execution_count": 8,
   "id": "49154d73",
   "metadata": {
    "panel-layout": {
     "height": 61.421875,
     "visible": true,
     "width": 100
    }
   },
   "outputs": [
    {
     "data": {
      "text/plain": [
       "array(['TRY', 'EUR', 'RUB', 'PLN', 'BRL', 'KZT', 'USD', 'AZN', 'INR',\n",
       "       'BYN', 'UAH', 'UZS', 'CZK', 'NOK', 'HUF', 'LKR', 'NPR', 'BDT',\n",
       "       'CAD', 'MXN', 'SAR', 'AUD', 'KGS', 'PKR', 'AED', 'MAD', 'KWD'],\n",
       "      dtype=object)"
      ]
     },
     "execution_count": 8,
     "metadata": {},
     "output_type": "execute_result"
    }
   ],
   "source": [
    "df['code'].unique() #аналогично проверим коды стран"
   ]
  },
  {
   "cell_type": "code",
   "execution_count": 9,
   "id": "3f0e51fa",
   "metadata": {
    "panel-layout": {
     "height": 27.140625,
     "visible": true,
     "width": 100
    }
   },
   "outputs": [
    {
     "data": {
      "text/plain": [
       "0"
      ]
     },
     "execution_count": 9,
     "metadata": {},
     "output_type": "execute_result"
    }
   ],
   "source": [
    "df.duplicated().sum() #поищем дубликаты"
   ]
  },
  {
   "cell_type": "code",
   "execution_count": 10,
   "id": "3bbe4da2",
   "metadata": {
    "panel-layout": {
     "height": 27.140625,
     "visible": true,
     "width": 100
    }
   },
   "outputs": [
    {
     "data": {
      "text/plain": [
       "96"
      ]
     },
     "execution_count": 10,
     "metadata": {},
     "output_type": "execute_result"
    }
   ],
   "source": [
    "df['user_id'].duplicated().sum() #дубликаты по айди юзеров"
   ]
  },
  {
   "cell_type": "code",
   "execution_count": 11,
   "id": "0f19725b",
   "metadata": {
    "panel-layout": {
     "height": 0,
     "visible": true,
     "width": 100
    }
   },
   "outputs": [
    {
     "name": "stdout",
     "output_type": "stream",
     "text": [
      "<class 'pandas.core.frame.DataFrame'>\n",
      "Index: 9085 entries, 44 to 315902\n",
      "Data columns (total 4 columns):\n",
      " #   Column      Non-Null Count  Dtype         \n",
      "---  ------      --------------  -----         \n",
      " 0   date_block  9085 non-null   datetime64[ns]\n",
      " 1   user_id     9085 non-null   int64         \n",
      " 2   category    9085 non-null   object        \n",
      " 3   code        9085 non-null   object        \n",
      "dtypes: datetime64[ns](1), int64(1), object(2)\n",
      "memory usage: 354.9+ KB\n"
     ]
    }
   ],
   "source": [
    "#так как есть дубликаты по айди, избавимся от них\n",
    "df = df.drop_duplicates(['user_id'], keep='first')\n",
    "df.info()"
   ]
  },
  {
   "cell_type": "code",
   "execution_count": 12,
   "id": "74f9ca8c",
   "metadata": {
    "panel-layout": {
     "height": 167,
     "visible": true,
     "width": 100
    }
   },
   "outputs": [
    {
     "data": {
      "text/html": [
       "<div>\n",
       "<style scoped>\n",
       "    .dataframe tbody tr th:only-of-type {\n",
       "        vertical-align: middle;\n",
       "    }\n",
       "\n",
       "    .dataframe tbody tr th {\n",
       "        vertical-align: top;\n",
       "    }\n",
       "\n",
       "    .dataframe thead th {\n",
       "        text-align: right;\n",
       "    }\n",
       "</style>\n",
       "<table border=\"1\" class=\"dataframe\">\n",
       "  <thead>\n",
       "    <tr style=\"text-align: right;\">\n",
       "      <th></th>\n",
       "      <th>date_block</th>\n",
       "      <th>user_id</th>\n",
       "      <th>category</th>\n",
       "      <th>code</th>\n",
       "    </tr>\n",
       "  </thead>\n",
       "  <tbody>\n",
       "    <tr>\n",
       "      <th>44</th>\n",
       "      <td>2023-12-19 21:00:00</td>\n",
       "      <td>11079910</td>\n",
       "      <td>charge</td>\n",
       "      <td>TRY</td>\n",
       "    </tr>\n",
       "    <tr>\n",
       "      <th>80</th>\n",
       "      <td>2023-12-19 21:00:00</td>\n",
       "      <td>90950207</td>\n",
       "      <td>charge</td>\n",
       "      <td>EUR</td>\n",
       "    </tr>\n",
       "    <tr>\n",
       "      <th>95</th>\n",
       "      <td>2023-12-19 21:00:00</td>\n",
       "      <td>100352465</td>\n",
       "      <td>charge</td>\n",
       "      <td>RUB</td>\n",
       "    </tr>\n",
       "    <tr>\n",
       "      <th>128</th>\n",
       "      <td>2023-12-19 21:00:00</td>\n",
       "      <td>108961663</td>\n",
       "      <td>charge</td>\n",
       "      <td>PLN</td>\n",
       "    </tr>\n",
       "    <tr>\n",
       "      <th>175</th>\n",
       "      <td>2023-12-19 21:00:00</td>\n",
       "      <td>118180183</td>\n",
       "      <td>charge</td>\n",
       "      <td>TRY</td>\n",
       "    </tr>\n",
       "  </tbody>\n",
       "</table>\n",
       "</div>"
      ],
      "text/plain": [
       "             date_block    user_id category code\n",
       "44  2023-12-19 21:00:00   11079910   charge  TRY\n",
       "80  2023-12-19 21:00:00   90950207   charge  EUR\n",
       "95  2023-12-19 21:00:00  100352465   charge  RUB\n",
       "128 2023-12-19 21:00:00  108961663   charge  PLN\n",
       "175 2023-12-19 21:00:00  118180183   charge  TRY"
      ]
     },
     "execution_count": 12,
     "metadata": {},
     "output_type": "execute_result"
    }
   ],
   "source": [
    "df.head()"
   ]
  },
  {
   "cell_type": "markdown",
   "id": "cf997f07",
   "metadata": {
    "panel-layout": {
     "height": 68.28125,
     "visible": true,
     "width": 100
    }
   },
   "source": [
    "В итоге мы имеем 9085 записей блокировок пользователей в категории charge за период с 2023-09-16 по 2024-09-16. Это около 2-3 процентов от числа всех блокировок, тем не менее, имеем дело с наплывами фродеров, которые приносят убытки."
   ]
  },
  {
   "cell_type": "markdown",
   "id": "eb262f37-0f89-4d66-9ead-427b0986c9b1",
   "metadata": {},
   "source": [
    "### Депозиты игроков"
   ]
  },
  {
   "cell_type": "markdown",
   "id": "1a5860d4-e889-4771-971c-8748e42845dd",
   "metadata": {},
   "source": [
    "Теперь, зная особенности данных, пишем аналогичный запрос к базе данных, чтобы выгрузить данные о депозитах блокированных пользователей.\n",
    "\n",
    "Приведенный датасет был получен с помощью запроса:\n",
    "\n",
    "```SQL\n",
    "select r.user_id,\n",
    "    r.status,\n",
    "    r.amount,\n",
    "    r.created_at,\n",
    "    p.name,\n",
    "    c.code,\n",
    "    sum(r.amount) over(partition by(r.user_id)) as refill_sum\n",
    "from dwh_mb_dedup.refill r left join dwh_mb_dedup.refill_payment_provider_method p on r.payment_provider_type=cast(p.id as UInt64)\n",
    "left join dwh_mb_dedup.currency c on r.currency=c.id\n",
    "where r.status = 2\n",
    "  and r.user_id in (select distinct user_id\n",
    "            from dwh_mbcom_dedup.folex.folex_locked\n",
    "            where date_block between '2023-09-16' and '2024-09-16' \n",
    "                and project = 'mostbet.com'\n",
    "                and category in ('Charge', 'charge ', 'charge', 'Charged', 'Charg')\n",
    "                and code is not null)\n",
    "```\n",
    "\n",
    "Теперь подготовим данные для последующего анализа."
   ]
  },
  {
   "cell_type": "code",
   "execution_count": 13,
   "id": "efb44b9e-3e4d-4076-bd42-a38cd5516d2b",
   "metadata": {},
   "outputs": [
    {
     "name": "stdout",
     "output_type": "stream",
     "text": [
      "<class 'pandas.core.frame.DataFrame'>\n",
      "RangeIndex: 500199 entries, 0 to 500198\n",
      "Data columns (total 6 columns):\n",
      " #   Column           Non-Null Count   Dtype         \n",
      "---  ------           --------------   -----         \n",
      " 0   user_id          500199 non-null  int64         \n",
      " 1   amount           500199 non-null  int64         \n",
      " 2   created_at       500199 non-null  datetime64[ns]\n",
      " 3   provider_method  472670 non-null  object        \n",
      " 4   code             500199 non-null  object        \n",
      " 5   refill_sum       500199 non-null  int64         \n",
      "dtypes: datetime64[ns](1), int64(3), object(2)\n",
      "memory usage: 22.9+ MB\n"
     ]
    }
   ],
   "source": [
    "refill = pd.read_csv('refill.csv')\n",
    "\n",
    "del refill['r.status'] #столбец со статусом нам не понадобится, так как ранее отобрали только удачные пополнения\n",
    "\n",
    "refill = refill.rename(columns={'r.user_id': 'user_id', #переименуем столбцы для удобства\n",
    "                        'r.amount': 'amount',\n",
    "                        'r.created_at': 'created_at',\n",
    "                        'p.name': 'provider_method',\n",
    "                        'c.code': 'code'})\n",
    "refill['amount'] = refill['amount'].astype('int64')\n",
    "refill['refill_sum'] = refill['refill_sum'].astype('int64')\n",
    "refill['created_at'] = pd.to_datetime(refill['created_at'], format='%Y-%m-%d %H:%M:%S.%f %z') #изменим тип данных для дат\n",
    "refill['created_at'] = refill['created_at'].dt.floor('S').dt.tz_localize(None) #убираем миллисекунды и таймзону\n",
    "refill.info()"
   ]
  },
  {
   "cell_type": "code",
   "execution_count": 14,
   "id": "131ac140-ffb0-48ab-a544-3b5a20428633",
   "metadata": {},
   "outputs": [
    {
     "data": {
      "text/html": [
       "<div>\n",
       "<style scoped>\n",
       "    .dataframe tbody tr th:only-of-type {\n",
       "        vertical-align: middle;\n",
       "    }\n",
       "\n",
       "    .dataframe tbody tr th {\n",
       "        vertical-align: top;\n",
       "    }\n",
       "\n",
       "    .dataframe thead th {\n",
       "        text-align: right;\n",
       "    }\n",
       "</style>\n",
       "<table border=\"1\" class=\"dataframe\">\n",
       "  <thead>\n",
       "    <tr style=\"text-align: right;\">\n",
       "      <th></th>\n",
       "      <th>user_id</th>\n",
       "      <th>amount</th>\n",
       "      <th>created_at</th>\n",
       "      <th>provider_method</th>\n",
       "      <th>code</th>\n",
       "      <th>refill_sum</th>\n",
       "    </tr>\n",
       "  </thead>\n",
       "  <tbody>\n",
       "    <tr>\n",
       "      <th>0</th>\n",
       "      <td>969017</td>\n",
       "      <td>50</td>\n",
       "      <td>2017-12-04 19:33:14</td>\n",
       "      <td>qiwi_wallet</td>\n",
       "      <td>RUB</td>\n",
       "      <td>1696018</td>\n",
       "    </tr>\n",
       "    <tr>\n",
       "      <th>1</th>\n",
       "      <td>969017</td>\n",
       "      <td>100</td>\n",
       "      <td>2017-12-16 20:10:33</td>\n",
       "      <td>tele2</td>\n",
       "      <td>RUB</td>\n",
       "      <td>1696018</td>\n",
       "    </tr>\n",
       "    <tr>\n",
       "      <th>2</th>\n",
       "      <td>969017</td>\n",
       "      <td>100</td>\n",
       "      <td>2017-12-16 21:52:17</td>\n",
       "      <td>tele2</td>\n",
       "      <td>RUB</td>\n",
       "      <td>1696018</td>\n",
       "    </tr>\n",
       "    <tr>\n",
       "      <th>3</th>\n",
       "      <td>969017</td>\n",
       "      <td>130</td>\n",
       "      <td>2017-12-29 20:10:52</td>\n",
       "      <td>qiwi_wallet</td>\n",
       "      <td>RUB</td>\n",
       "      <td>1696018</td>\n",
       "    </tr>\n",
       "    <tr>\n",
       "      <th>4</th>\n",
       "      <td>969017</td>\n",
       "      <td>200</td>\n",
       "      <td>2017-12-30 17:41:06</td>\n",
       "      <td>qiwi_wallet</td>\n",
       "      <td>RUB</td>\n",
       "      <td>1696018</td>\n",
       "    </tr>\n",
       "  </tbody>\n",
       "</table>\n",
       "</div>"
      ],
      "text/plain": [
       "   user_id  amount          created_at provider_method code  refill_sum\n",
       "0   969017      50 2017-12-04 19:33:14     qiwi_wallet  RUB     1696018\n",
       "1   969017     100 2017-12-16 20:10:33           tele2  RUB     1696018\n",
       "2   969017     100 2017-12-16 21:52:17           tele2  RUB     1696018\n",
       "3   969017     130 2017-12-29 20:10:52     qiwi_wallet  RUB     1696018\n",
       "4   969017     200 2017-12-30 17:41:06     qiwi_wallet  RUB     1696018"
      ]
     },
     "execution_count": 14,
     "metadata": {},
     "output_type": "execute_result"
    }
   ],
   "source": [
    "refill.head()"
   ]
  },
  {
   "cell_type": "markdown",
   "id": "1ea4bd5d-c461-4b73-9f2e-b7b345dc1cb0",
   "metadata": {},
   "source": [
    "Расшифровка данных:\n",
    "\n",
    "- *r.user_id* - айди пользователей\n",
    "- *r.status* - статусы пополнений\n",
    "- *r.amount* - сумма одного пополнения\n",
    "- *r.created_at* - момент пополнения\n",
    "- *p.name* - название метода пополнения\n",
    "- *c.code* - валюта\n",
    "- *refill_sum* - сумма всех пополнений каждого пользователя\n",
    "\n",
    "\n",
    "Эти данные нам пригодятся для исследовательского анализа далее."
   ]
  },
  {
   "cell_type": "markdown",
   "id": "217de0c2",
   "metadata": {
    "panel-layout": {
     "height": 93.9609375,
     "visible": true,
     "width": 100
    }
   },
   "source": [
    "## Исследовательский анализ данных\n",
    "___\n",
    "\n",
    "Вооружившись наборами данных и обработав их, начнем с исследование пользовательского поведения. Узнаем как распределены данные о клиентах, валютах, в которых они играют, как пополняют баланс фродеры и какими они пользуются методами пополнений, проанализируем типичного игрока в разных валютах."
   ]
  },
  {
   "cell_type": "markdown",
   "id": "504301ec",
   "metadata": {
    "panel-layout": {
     "height": 44.0859375,
     "visible": true,
     "width": 100
    }
   },
   "source": [
    "### Гистограмма по датам"
   ]
  },
  {
   "cell_type": "markdown",
   "id": "070d9e0b-8408-41c1-8a78-1faee067834e",
   "metadata": {},
   "source": [
    "Рассмотрим, с какой частотностью блокировались пользователи в течение года."
   ]
  },
  {
   "cell_type": "code",
   "execution_count": 15,
   "id": "afac34b2",
   "metadata": {
    "panel-layout": {
     "height": 1162,
     "visible": true,
     "width": 100
    }
   },
   "outputs": [
    {
     "data": {
      "image/png": "[encoded data removed]",
      "text/plain": [
       "<Figure size 1000x600 with 1 Axes>"
      ]
     },
     "metadata": {},
     "output_type": "display_data"
    }
   ],
   "source": [
    "#строим гистограмму по датам\n",
    "plt.figure(figsize=(10, 6))\n",
    "plt.hist(df['date_block'], bins=60)\n",
    "plt.title('Блокировки пользователей')\n",
    "plt.xlabel('Дата')\n",
    "plt.xticks(rotation=45)\n",
    "plt.show()"
   ]
  },
  {
   "cell_type": "markdown",
   "id": "067c1635",
   "metadata": {
    "panel-layout": {
     "height": 51.140625,
     "visible": true,
     "width": 100
    }
   },
   "source": [
    "Так можем увидеть основные наплывы фрода за год, выраженные в количестве уникальных пользователей. Что примечательно, с февраля по июль наплывов было больше и они были интенсивнее."
   ]
  },
  {
   "cell_type": "markdown",
   "id": "b3a5516b",
   "metadata": {
    "panel-layout": {
     "height": 44.0859375,
     "visible": true,
     "width": 100
    }
   },
   "source": [
    "### Распределение фрода по валютам"
   ]
  },
  {
   "cell_type": "markdown",
   "id": "fe97591d-621c-4a7e-a740-e6d2135d58f6",
   "metadata": {},
   "source": [
    "Далее построим визуализацию распределения уникальных пользователей по валютам. Выделим условную десятку валют, остальные вынесем в раздел \"другие\"."
   ]
  },
  {
   "cell_type": "code",
   "execution_count": 16,
   "id": "b54ae5f5",
   "metadata": {
    "panel-layout": {
     "height": 1162,
     "visible": true,
     "width": 100
    }
   },
   "outputs": [
    {
     "data": {
      "image/png": "[encoded data removed]",
      "text/plain": [
       "<Figure size 600x600 with 1 Axes>"
      ]
     },
     "metadata": {},
     "output_type": "display_data"
    }
   ],
   "source": [
    "#посчитаем доли блокировок по валютам\n",
    "users_by_code = df.groupby('code')['user_id'].nunique().reset_index()\n",
    "users_by_code.columns = ['code', 'unique_user_count']\n",
    "users_by_code['percentage'] = (users_by_code['unique_user_count'] / users_by_code['unique_user_count'].sum()) * 100\n",
    "\n",
    "#выделим топ 10 валют и остальные поместим в раздел \"другие\"\n",
    "users_by_code = users_by_code.sort_values('percentage', ascending=False).head(10)\n",
    "\n",
    "#создадим новую строку\n",
    "others = pd.DataFrame({\n",
    "    'code': ['Other'],\n",
    "    'unique_user_count': [df.groupby('code')['user_id'].nunique().sum() - users_by_code['unique_user_count'].sum()],\n",
    "    'percentage': [100 - users_by_code['percentage'].sum()]\n",
    "})\n",
    "\n",
    "#объединим основной датасет с новой строкой\n",
    "users_by_code = pd.concat([users_by_code, others], ignore_index=True)\n",
    "\n",
    "#строим диаграмму\n",
    "plt.figure(figsize=(6, 6))\n",
    "colors = sns.color_palette('Set2')\n",
    "plt.pie(users_by_code['unique_user_count'], labels=users_by_code['code'], colors=colors, autopct='%1.1f%%')\n",
    "plt.title('Распределение пользователей по валютам')\n",
    "plt.show()"
   ]
  },
  {
   "cell_type": "markdown",
   "id": "7501ed1d-2bd8-49ef-9cbb-46559b9fb5f2",
   "metadata": {},
   "source": [
    "График показывает следующее распределение уникальных пользователей по валютам: наиболее популярными оказались TRY (42,3%), INR (18,3%), HUF (12,8%), RUB (10,2%)."
   ]
  },
  {
   "cell_type": "markdown",
   "id": "bd57cc70-7f4d-412c-a554-312747e748be",
   "metadata": {},
   "source": [
    "### Депозиты\n",
    "\n",
    "#### Преобразования\n",
    "\n",
    "Следующим шагом разберем данные уже не по уникальным айди пользователей, а по количеству и сумме пополнений. Результаты такого рассмотрения могут существенно отличаться от предыдущих, но они покажут реальное поведение пользователей. \n",
    "\n",
    "Аггрегируем данные для анализа. А для того, чтобы можно было сравнивать данные по депозитам между собой, конвертируем суммы пополнений из национальных валют в USD."
   ]
  },
  {
   "cell_type": "code",
   "execution_count": 17,
   "id": "1c33403c-9b6f-41bb-979d-7528acc31575",
   "metadata": {},
   "outputs": [
    {
     "data": {
      "text/html": [
       "<div>\n",
       "<style scoped>\n",
       "    .dataframe tbody tr th:only-of-type {\n",
       "        vertical-align: middle;\n",
       "    }\n",
       "\n",
       "    .dataframe tbody tr th {\n",
       "        vertical-align: top;\n",
       "    }\n",
       "\n",
       "    .dataframe thead th {\n",
       "        text-align: right;\n",
       "    }\n",
       "</style>\n",
       "<table border=\"1\" class=\"dataframe\">\n",
       "  <thead>\n",
       "    <tr style=\"text-align: right;\">\n",
       "      <th></th>\n",
       "      <th>code</th>\n",
       "      <th>user_id</th>\n",
       "      <th>refill_sum</th>\n",
       "      <th>amount_cnt</th>\n",
       "      <th>amount_mean</th>\n",
       "      <th>refill_sum_usd</th>\n",
       "      <th>amount_mean_usd</th>\n",
       "    </tr>\n",
       "  </thead>\n",
       "  <tbody>\n",
       "    <tr>\n",
       "      <th>4941</th>\n",
       "      <td>UZS</td>\n",
       "      <td>97175175</td>\n",
       "      <td>542210556</td>\n",
       "      <td>483</td>\n",
       "      <td>600000.0</td>\n",
       "      <td>42292.4</td>\n",
       "      <td>46.8</td>\n",
       "    </tr>\n",
       "    <tr>\n",
       "      <th>4923</th>\n",
       "      <td>UZS</td>\n",
       "      <td>16596563</td>\n",
       "      <td>511507800</td>\n",
       "      <td>1247</td>\n",
       "      <td>160000.0</td>\n",
       "      <td>39897.6</td>\n",
       "      <td>12.5</td>\n",
       "    </tr>\n",
       "    <tr>\n",
       "      <th>4938</th>\n",
       "      <td>UZS</td>\n",
       "      <td>92504863</td>\n",
       "      <td>281060242</td>\n",
       "      <td>176</td>\n",
       "      <td>800004.5</td>\n",
       "      <td>21922.7</td>\n",
       "      <td>62.4</td>\n",
       "    </tr>\n",
       "    <tr>\n",
       "      <th>4929</th>\n",
       "      <td>UZS</td>\n",
       "      <td>38178819</td>\n",
       "      <td>234167500</td>\n",
       "      <td>1571</td>\n",
       "      <td>125000.0</td>\n",
       "      <td>18265.1</td>\n",
       "      <td>9.8</td>\n",
       "    </tr>\n",
       "    <tr>\n",
       "      <th>4955</th>\n",
       "      <td>UZS</td>\n",
       "      <td>133652335</td>\n",
       "      <td>113985000</td>\n",
       "      <td>58</td>\n",
       "      <td>650000.0</td>\n",
       "      <td>8890.8</td>\n",
       "      <td>50.7</td>\n",
       "    </tr>\n",
       "  </tbody>\n",
       "</table>\n",
       "</div>"
      ],
      "text/plain": [
       "     code    user_id  refill_sum  amount_cnt  amount_mean  refill_sum_usd  \\\n",
       "4941  UZS   97175175   542210556         483     600000.0         42292.4   \n",
       "4923  UZS   16596563   511507800        1247     160000.0         39897.6   \n",
       "4938  UZS   92504863   281060242         176     800004.5         21922.7   \n",
       "4929  UZS   38178819   234167500        1571     125000.0         18265.1   \n",
       "4955  UZS  133652335   113985000          58     650000.0          8890.8   \n",
       "\n",
       "      amount_mean_usd  \n",
       "4941             46.8  \n",
       "4923             12.5  \n",
       "4938             62.4  \n",
       "4929              9.8  \n",
       "4955             50.7  "
      ]
     },
     "execution_count": 17,
     "metadata": {},
     "output_type": "execute_result"
    }
   ],
   "source": [
    "#количество пополнений\n",
    "t1 = refill.groupby(['code', 'user_id', 'refill_sum'], as_index=False)['amount'].agg({'amount':'count'}).rename(columns={'amount':'amount_cnt'})\n",
    "\n",
    "#средняя сумма пополнений\n",
    "t2 = refill.groupby(['code', 'user_id', 'refill_sum'], as_index=False)['amount'].agg({'amount':'median'}).round(1).rename(columns={'amount':'amount_mean'})\n",
    "\n",
    "#объединим и получим датасет, в котором можем рассмотреть каждого пользователя и валюту\n",
    "refill_sorted = t1.merge(t2).sort_values(by='refill_sum', ascending=False)\n",
    "\n",
    "#курсы валют\n",
    "exchange_rates = {\n",
    "    'UZS': 0.000078,\n",
    "    'KZT': 0.0021, \n",
    "    'INR': 0.012, \n",
    "    'UAH': 0.024, \n",
    "    'RUB': 0.01, \n",
    "    'TRY': 0.029, \n",
    "    'HUF': 0.0028, \n",
    "    'NPR': 0.0075,\n",
    "    'PLN': 0.26,\n",
    "    'EUR': 1.11, \n",
    "    'BDT': 0.0084, \n",
    "    'PKR': 0.0036, \n",
    "    'KGS': 0.012, \n",
    "    'AZN': 0.59, \n",
    "    'CZK': 0.044, \n",
    "    'LKR': 0.0034, \n",
    "    'BRL': 0.18, \n",
    "    'CAD': 0.74,\n",
    "    'MXN': 0.051, \n",
    "    'USD': 1, \n",
    "    'NOK': 0.094, \n",
    "    'BYN': 0.31, \n",
    "    'AED': 0.27\n",
    "}\n",
    "\n",
    "#функция для конвертации\n",
    "def convert_to_usd(row):\n",
    "    currency_code = row['code']\n",
    "    if currency_code in exchange_rates:\n",
    "        row['refill_sum_usd'] = round(row['refill_sum'] * exchange_rates[currency_code], 1)\n",
    "        row['amount_mean_usd'] = round(row['amount_mean'] * exchange_rates[currency_code], 1)\n",
    "    else:\n",
    "        row['refill_sum_usd'] = None\n",
    "        row['amount_mean_usd'] = None\n",
    "    return row\n",
    "\n",
    "refill_sorted = refill_sorted.apply(convert_to_usd, axis=1)\n",
    "\n",
    "refill_sorted.head()"
   ]
  },
  {
   "cell_type": "markdown",
   "id": "55d5c041-7554-461e-90af-4aade701ba85",
   "metadata": {},
   "source": [
    "Расшифровка данных:\n",
    "\n",
    "- *code* - валюта\n",
    "- *user_id* - айди пользователей\n",
    "- *refill_sum* - сумма всех пополнений пользователя\n",
    "- *amount_cnt* - количество пополнений пользователя\n",
    "- *amount_mean* - средняя сумма пополнения пользователя\n",
    "- *refill_sum_usd* - сумма всех пополнений пользователя в USD\n",
    "- *amount_mean_usd* - средняя сумма пополнения пользователя в USD"
   ]
  },
  {
   "cell_type": "markdown",
   "id": "1c7e43f2-d87e-494c-bbdb-ae005e5d829b",
   "metadata": {},
   "source": [
    "Посчитаем описательные статистики."
   ]
  },
  {
   "cell_type": "code",
   "execution_count": 18,
   "id": "f6c7715d-e084-4f57-bbec-bb6a7f614e7c",
   "metadata": {},
   "outputs": [
    {
     "data": {
      "text/html": [
       "<div>\n",
       "<style scoped>\n",
       "    .dataframe tbody tr th:only-of-type {\n",
       "        vertical-align: middle;\n",
       "    }\n",
       "\n",
       "    .dataframe tbody tr th {\n",
       "        vertical-align: top;\n",
       "    }\n",
       "\n",
       "    .dataframe thead th {\n",
       "        text-align: right;\n",
       "    }\n",
       "</style>\n",
       "<table border=\"1\" class=\"dataframe\">\n",
       "  <thead>\n",
       "    <tr style=\"text-align: right;\">\n",
       "      <th></th>\n",
       "      <th>amount_mean_usd</th>\n",
       "      <th>refill_sum_usd</th>\n",
       "      <th>amount_cnt</th>\n",
       "    </tr>\n",
       "  </thead>\n",
       "  <tbody>\n",
       "    <tr>\n",
       "      <th>count</th>\n",
       "      <td>5019.000000</td>\n",
       "      <td>5019.000000</td>\n",
       "      <td>5019.000000</td>\n",
       "    </tr>\n",
       "    <tr>\n",
       "      <th>mean</th>\n",
       "      <td>59.795158</td>\n",
       "      <td>4442.418928</td>\n",
       "      <td>99.661088</td>\n",
       "    </tr>\n",
       "    <tr>\n",
       "      <th>std</th>\n",
       "      <td>96.691957</td>\n",
       "      <td>17338.510583</td>\n",
       "      <td>312.354268</td>\n",
       "    </tr>\n",
       "    <tr>\n",
       "      <th>min</th>\n",
       "      <td>0.000000</td>\n",
       "      <td>0.500000</td>\n",
       "      <td>1.000000</td>\n",
       "    </tr>\n",
       "    <tr>\n",
       "      <th>25%</th>\n",
       "      <td>8.100000</td>\n",
       "      <td>47.550000</td>\n",
       "      <td>2.000000</td>\n",
       "    </tr>\n",
       "    <tr>\n",
       "      <th>50%</th>\n",
       "      <td>23.000000</td>\n",
       "      <td>319.000000</td>\n",
       "      <td>7.000000</td>\n",
       "    </tr>\n",
       "    <tr>\n",
       "      <th>75%</th>\n",
       "      <td>75.000000</td>\n",
       "      <td>1316.500000</td>\n",
       "      <td>40.000000</td>\n",
       "    </tr>\n",
       "    <tr>\n",
       "      <th>max</th>\n",
       "      <td>1665.000000</td>\n",
       "      <td>400747.200000</td>\n",
       "      <td>5328.000000</td>\n",
       "    </tr>\n",
       "  </tbody>\n",
       "</table>\n",
       "</div>"
      ],
      "text/plain": [
       "       amount_mean_usd  refill_sum_usd   amount_cnt\n",
       "count      5019.000000     5019.000000  5019.000000\n",
       "mean         59.795158     4442.418928    99.661088\n",
       "std          96.691957    17338.510583   312.354268\n",
       "min           0.000000        0.500000     1.000000\n",
       "25%           8.100000       47.550000     2.000000\n",
       "50%          23.000000      319.000000     7.000000\n",
       "75%          75.000000     1316.500000    40.000000\n",
       "max        1665.000000   400747.200000  5328.000000"
      ]
     },
     "execution_count": 18,
     "metadata": {},
     "output_type": "execute_result"
    }
   ],
   "source": [
    "refill_sorted[['amount_mean_usd', 'refill_sum_usd', 'amount_cnt']].describe()"
   ]
  },
  {
   "cell_type": "markdown",
   "id": "ffc0c7d7-fa14-4240-9107-160c92431e17",
   "metadata": {},
   "source": [
    "Исходя из того, как распределены данные, для их аггрегации будем рассчитывать медианы."
   ]
  },
  {
   "cell_type": "code",
   "execution_count": 19,
   "id": "40134f1e-058b-4013-b8b4-cd14621393b5",
   "metadata": {},
   "outputs": [
    {
     "data": {
      "text/html": [
       "<div>\n",
       "<style scoped>\n",
       "    .dataframe tbody tr th:only-of-type {\n",
       "        vertical-align: middle;\n",
       "    }\n",
       "\n",
       "    .dataframe tbody tr th {\n",
       "        vertical-align: top;\n",
       "    }\n",
       "\n",
       "    .dataframe thead th {\n",
       "        text-align: right;\n",
       "    }\n",
       "</style>\n",
       "<table border=\"1\" class=\"dataframe\">\n",
       "  <thead>\n",
       "    <tr style=\"text-align: right;\">\n",
       "      <th></th>\n",
       "      <th>code</th>\n",
       "      <th>amount_cnt</th>\n",
       "      <th>amount_mean_usd</th>\n",
       "      <th>refill_sum_usd</th>\n",
       "    </tr>\n",
       "  </thead>\n",
       "  <tbody>\n",
       "    <tr>\n",
       "      <th>0</th>\n",
       "      <td>AED</td>\n",
       "      <td>2.0</td>\n",
       "      <td>1.90</td>\n",
       "      <td>3.8</td>\n",
       "    </tr>\n",
       "    <tr>\n",
       "      <th>1</th>\n",
       "      <td>AZN</td>\n",
       "      <td>3.0</td>\n",
       "      <td>59.00</td>\n",
       "      <td>457273.8</td>\n",
       "    </tr>\n",
       "    <tr>\n",
       "      <th>2</th>\n",
       "      <td>BDT</td>\n",
       "      <td>20.5</td>\n",
       "      <td>42.00</td>\n",
       "      <td>2586.8</td>\n",
       "    </tr>\n",
       "    <tr>\n",
       "      <th>3</th>\n",
       "      <td>BRL</td>\n",
       "      <td>1.0</td>\n",
       "      <td>18.00</td>\n",
       "      <td>23656.7</td>\n",
       "    </tr>\n",
       "    <tr>\n",
       "      <th>4</th>\n",
       "      <td>BYN</td>\n",
       "      <td>1.0</td>\n",
       "      <td>2.20</td>\n",
       "      <td>66.6</td>\n",
       "    </tr>\n",
       "    <tr>\n",
       "      <th>5</th>\n",
       "      <td>CAD</td>\n",
       "      <td>8.0</td>\n",
       "      <td>194.60</td>\n",
       "      <td>110388.2</td>\n",
       "    </tr>\n",
       "    <tr>\n",
       "      <th>6</th>\n",
       "      <td>CZK</td>\n",
       "      <td>3.5</td>\n",
       "      <td>18.70</td>\n",
       "      <td>53894.1</td>\n",
       "    </tr>\n",
       "    <tr>\n",
       "      <th>7</th>\n",
       "      <td>EUR</td>\n",
       "      <td>3.0</td>\n",
       "      <td>55.50</td>\n",
       "      <td>894373.0</td>\n",
       "    </tr>\n",
       "    <tr>\n",
       "      <th>8</th>\n",
       "      <td>HUF</td>\n",
       "      <td>9.0</td>\n",
       "      <td>13.60</td>\n",
       "      <td>78607.9</td>\n",
       "    </tr>\n",
       "    <tr>\n",
       "      <th>9</th>\n",
       "      <td>INR</td>\n",
       "      <td>26.0</td>\n",
       "      <td>36.00</td>\n",
       "      <td>14355957.3</td>\n",
       "    </tr>\n",
       "    <tr>\n",
       "      <th>10</th>\n",
       "      <td>KGS</td>\n",
       "      <td>77.0</td>\n",
       "      <td>12.00</td>\n",
       "      <td>2327.4</td>\n",
       "    </tr>\n",
       "    <tr>\n",
       "      <th>11</th>\n",
       "      <td>KZT</td>\n",
       "      <td>5.0</td>\n",
       "      <td>10.50</td>\n",
       "      <td>394216.9</td>\n",
       "    </tr>\n",
       "    <tr>\n",
       "      <th>12</th>\n",
       "      <td>LKR</td>\n",
       "      <td>6.0</td>\n",
       "      <td>85.00</td>\n",
       "      <td>559.1</td>\n",
       "    </tr>\n",
       "    <tr>\n",
       "      <th>13</th>\n",
       "      <td>MXN</td>\n",
       "      <td>1.5</td>\n",
       "      <td>40.80</td>\n",
       "      <td>1217.9</td>\n",
       "    </tr>\n",
       "    <tr>\n",
       "      <th>14</th>\n",
       "      <td>NOK</td>\n",
       "      <td>4.0</td>\n",
       "      <td>277.30</td>\n",
       "      <td>725.0</td>\n",
       "    </tr>\n",
       "    <tr>\n",
       "      <th>15</th>\n",
       "      <td>NPR</td>\n",
       "      <td>820.0</td>\n",
       "      <td>33.80</td>\n",
       "      <td>29310.9</td>\n",
       "    </tr>\n",
       "    <tr>\n",
       "      <th>16</th>\n",
       "      <td>PKR</td>\n",
       "      <td>1.0</td>\n",
       "      <td>720.00</td>\n",
       "      <td>720.0</td>\n",
       "    </tr>\n",
       "    <tr>\n",
       "      <th>17</th>\n",
       "      <td>PLN</td>\n",
       "      <td>9.0</td>\n",
       "      <td>24.45</td>\n",
       "      <td>775050.6</td>\n",
       "    </tr>\n",
       "    <tr>\n",
       "      <th>18</th>\n",
       "      <td>RUB</td>\n",
       "      <td>10.0</td>\n",
       "      <td>15.00</td>\n",
       "      <td>1828377.5</td>\n",
       "    </tr>\n",
       "    <tr>\n",
       "      <th>19</th>\n",
       "      <td>TRY</td>\n",
       "      <td>6.0</td>\n",
       "      <td>14.50</td>\n",
       "      <td>2674206.1</td>\n",
       "    </tr>\n",
       "    <tr>\n",
       "      <th>20</th>\n",
       "      <td>UAH</td>\n",
       "      <td>45.5</td>\n",
       "      <td>18.00</td>\n",
       "      <td>307899.4</td>\n",
       "    </tr>\n",
       "    <tr>\n",
       "      <th>21</th>\n",
       "      <td>USD</td>\n",
       "      <td>3.0</td>\n",
       "      <td>40.00</td>\n",
       "      <td>53508.0</td>\n",
       "    </tr>\n",
       "    <tr>\n",
       "      <th>22</th>\n",
       "      <td>UZS</td>\n",
       "      <td>10.0</td>\n",
       "      <td>31.20</td>\n",
       "      <td>251573.6</td>\n",
       "    </tr>\n",
       "  </tbody>\n",
       "</table>\n",
       "</div>"
      ],
      "text/plain": [
       "   code  amount_cnt  amount_mean_usd  refill_sum_usd\n",
       "0   AED         2.0             1.90             3.8\n",
       "1   AZN         3.0            59.00        457273.8\n",
       "2   BDT        20.5            42.00          2586.8\n",
       "3   BRL         1.0            18.00         23656.7\n",
       "4   BYN         1.0             2.20            66.6\n",
       "5   CAD         8.0           194.60        110388.2\n",
       "6   CZK         3.5            18.70         53894.1\n",
       "7   EUR         3.0            55.50        894373.0\n",
       "8   HUF         9.0            13.60         78607.9\n",
       "9   INR        26.0            36.00      14355957.3\n",
       "10  KGS        77.0            12.00          2327.4\n",
       "11  KZT         5.0            10.50        394216.9\n",
       "12  LKR         6.0            85.00           559.1\n",
       "13  MXN         1.5            40.80          1217.9\n",
       "14  NOK         4.0           277.30           725.0\n",
       "15  NPR       820.0            33.80         29310.9\n",
       "16  PKR         1.0           720.00           720.0\n",
       "17  PLN         9.0            24.45        775050.6\n",
       "18  RUB        10.0            15.00       1828377.5\n",
       "19  TRY         6.0            14.50       2674206.1\n",
       "20  UAH        45.5            18.00        307899.4\n",
       "21  USD         3.0            40.00         53508.0\n",
       "22  UZS        10.0            31.20        251573.6"
      ]
     },
     "execution_count": 19,
     "metadata": {},
     "output_type": "execute_result"
    }
   ],
   "source": [
    "#создаем сводную таблицу, сгруппированную по валютам\n",
    "refill_pivot = (refill_sorted.pivot_table(index='code', values=['refill_sum_usd', 'amount_mean_usd', 'amount_cnt'], \n",
    "                           aggfunc={'amount_cnt':'median', 'amount_mean_usd':'median', 'refill_sum_usd':'sum'})\n",
    "     .reset_index()\n",
    ")\n",
    "\n",
    "refill_pivot"
   ]
  },
  {
   "cell_type": "markdown",
   "id": "d8346d0a-a769-4fe4-a036-760e7bff0c56",
   "metadata": {},
   "source": [
    "#### Общая сумма депозитов\n",
    "\n",
    "Построим визуализацию сумм депозитов игроков по валютам. Соотнесем это с ранее полученными данными по распределению заблокированных пользователей по валютам."
   ]
  },
  {
   "cell_type": "code",
   "execution_count": 20,
   "id": "29ff4713-01b8-4c0f-ace5-2692b2a23226",
   "metadata": {},
   "outputs": [
    {
     "data": {
      "image/png": "[encoded data removed]",
      "text/plain": [
       "<Figure size 1000x600 with 1 Axes>"
      ]
     },
     "metadata": {},
     "output_type": "display_data"
    }
   ],
   "source": [
    "sorted_refill_sum = refill_pivot.sort_values(by='refill_sum_usd', ascending=False).head(10)\n",
    "\n",
    "#создаем график\n",
    "plt.figure(figsize=(10, 6))\n",
    "ax = sorted_refill_sum.sort_values(by='refill_sum_usd', ascending=True).plot(\n",
    "    y='refill_sum_usd', \n",
    "    x='code', \n",
    "    kind='barh', \n",
    "    color='orange', \n",
    "    edgecolor='black',\n",
    "    legend=False,\n",
    "    ax=plt.gca()\n",
    ")\n",
    "\n",
    "plt.title('Общая сумма депозитов по валютам')\n",
    "plt.xlabel('Сумма пополнений (USD)')\n",
    "plt.ylabel('Валюты')\n",
    "\n",
    "#добавим подписи к столбцам\n",
    "for p in ax.patches:\n",
    "    ax.annotate(f'{p.get_width():,.0f}', \n",
    "                (p.get_width() + 100000, p.get_y() + p.get_height() / 2), \n",
    "                ha='left', va='center', fontsize=10)\n",
    "\n",
    "plt.grid(axis='x', linestyle='--', alpha=0.6)\n",
    "plt.tight_layout()\n",
    "plt.show()"
   ]
  },
  {
   "cell_type": "markdown",
   "id": "417185b8-874b-4f2d-8f65-178417c84057",
   "metadata": {},
   "source": [
    "Наибольшая доля пополнений в валютах INR, TRY, RUB - в сумме более 19 млн долларов удачных депозитов, что в целом соотносится с тем, как уникальные заблокированные пользователи распределены по валютам: TRY (42,3%), INR (18,3%), RUB (10,2%). Что касается валюты HUF (12,8%), общая сумма пополнений не входит и в десятку, а количество блокированных пользователей относительно больше. Предположим, что это пустые мультиаккаунты - их много, но пополнений недостаточно для того, чтобы относить валюту в один ряд с рублями или лирами. Вероятно, на следующих этапах анализа увидим подробные детали этой аномалии.\n",
    "\n",
    "Сделаем промежуточный вывод. По результатам рассмотрения данных наиболее фродовые валюты - **TRY, INR, RUB**. Здесь и абсолютное большинство уникальных пользователей - 70%, и депозитов в целом - более 19 млн долларов. "
   ]
  },
  {
   "cell_type": "markdown",
   "id": "c39d0278-f299-4a24-86af-6cb38232d0a0",
   "metadata": {},
   "source": [
    "#### Средние депозиты\n",
    "\n",
    "Взглянем на соотношение средних сумм депозитов пользователей с числом их удачных попыток."
   ]
  },
  {
   "cell_type": "code",
   "execution_count": 21,
   "id": "e6cd7a4e-6f09-4b26-8869-69f5c88239c1",
   "metadata": {
    "scrolled": true
   },
   "outputs": [
    {
     "data": {
      "text/html": [
       "<div>\n",
       "<style scoped>\n",
       "    .dataframe tbody tr th:only-of-type {\n",
       "        vertical-align: middle;\n",
       "    }\n",
       "\n",
       "    .dataframe tbody tr th {\n",
       "        vertical-align: top;\n",
       "    }\n",
       "\n",
       "    .dataframe thead th {\n",
       "        text-align: right;\n",
       "    }\n",
       "</style>\n",
       "<table border=\"1\" class=\"dataframe\">\n",
       "  <thead>\n",
       "    <tr style=\"text-align: right;\">\n",
       "      <th></th>\n",
       "      <th>code</th>\n",
       "      <th>amount_cnt</th>\n",
       "      <th>amount_mean_usd</th>\n",
       "      <th>refill_sum_usd</th>\n",
       "    </tr>\n",
       "  </thead>\n",
       "  <tbody>\n",
       "    <tr>\n",
       "      <th>16</th>\n",
       "      <td>PKR</td>\n",
       "      <td>1.0</td>\n",
       "      <td>720.00</td>\n",
       "      <td>720.0</td>\n",
       "    </tr>\n",
       "    <tr>\n",
       "      <th>14</th>\n",
       "      <td>NOK</td>\n",
       "      <td>4.0</td>\n",
       "      <td>277.30</td>\n",
       "      <td>725.0</td>\n",
       "    </tr>\n",
       "    <tr>\n",
       "      <th>5</th>\n",
       "      <td>CAD</td>\n",
       "      <td>8.0</td>\n",
       "      <td>194.60</td>\n",
       "      <td>110388.2</td>\n",
       "    </tr>\n",
       "    <tr>\n",
       "      <th>12</th>\n",
       "      <td>LKR</td>\n",
       "      <td>6.0</td>\n",
       "      <td>85.00</td>\n",
       "      <td>559.1</td>\n",
       "    </tr>\n",
       "    <tr>\n",
       "      <th>1</th>\n",
       "      <td>AZN</td>\n",
       "      <td>3.0</td>\n",
       "      <td>59.00</td>\n",
       "      <td>457273.8</td>\n",
       "    </tr>\n",
       "    <tr>\n",
       "      <th>7</th>\n",
       "      <td>EUR</td>\n",
       "      <td>3.0</td>\n",
       "      <td>55.50</td>\n",
       "      <td>894373.0</td>\n",
       "    </tr>\n",
       "    <tr>\n",
       "      <th>2</th>\n",
       "      <td>BDT</td>\n",
       "      <td>20.5</td>\n",
       "      <td>42.00</td>\n",
       "      <td>2586.8</td>\n",
       "    </tr>\n",
       "    <tr>\n",
       "      <th>13</th>\n",
       "      <td>MXN</td>\n",
       "      <td>1.5</td>\n",
       "      <td>40.80</td>\n",
       "      <td>1217.9</td>\n",
       "    </tr>\n",
       "    <tr>\n",
       "      <th>21</th>\n",
       "      <td>USD</td>\n",
       "      <td>3.0</td>\n",
       "      <td>40.00</td>\n",
       "      <td>53508.0</td>\n",
       "    </tr>\n",
       "    <tr>\n",
       "      <th>9</th>\n",
       "      <td>INR</td>\n",
       "      <td>26.0</td>\n",
       "      <td>36.00</td>\n",
       "      <td>14355957.3</td>\n",
       "    </tr>\n",
       "    <tr>\n",
       "      <th>15</th>\n",
       "      <td>NPR</td>\n",
       "      <td>820.0</td>\n",
       "      <td>33.80</td>\n",
       "      <td>29310.9</td>\n",
       "    </tr>\n",
       "    <tr>\n",
       "      <th>22</th>\n",
       "      <td>UZS</td>\n",
       "      <td>10.0</td>\n",
       "      <td>31.20</td>\n",
       "      <td>251573.6</td>\n",
       "    </tr>\n",
       "    <tr>\n",
       "      <th>17</th>\n",
       "      <td>PLN</td>\n",
       "      <td>9.0</td>\n",
       "      <td>24.45</td>\n",
       "      <td>775050.6</td>\n",
       "    </tr>\n",
       "    <tr>\n",
       "      <th>6</th>\n",
       "      <td>CZK</td>\n",
       "      <td>3.5</td>\n",
       "      <td>18.70</td>\n",
       "      <td>53894.1</td>\n",
       "    </tr>\n",
       "    <tr>\n",
       "      <th>20</th>\n",
       "      <td>UAH</td>\n",
       "      <td>45.5</td>\n",
       "      <td>18.00</td>\n",
       "      <td>307899.4</td>\n",
       "    </tr>\n",
       "    <tr>\n",
       "      <th>3</th>\n",
       "      <td>BRL</td>\n",
       "      <td>1.0</td>\n",
       "      <td>18.00</td>\n",
       "      <td>23656.7</td>\n",
       "    </tr>\n",
       "    <tr>\n",
       "      <th>18</th>\n",
       "      <td>RUB</td>\n",
       "      <td>10.0</td>\n",
       "      <td>15.00</td>\n",
       "      <td>1828377.5</td>\n",
       "    </tr>\n",
       "    <tr>\n",
       "      <th>19</th>\n",
       "      <td>TRY</td>\n",
       "      <td>6.0</td>\n",
       "      <td>14.50</td>\n",
       "      <td>2674206.1</td>\n",
       "    </tr>\n",
       "    <tr>\n",
       "      <th>8</th>\n",
       "      <td>HUF</td>\n",
       "      <td>9.0</td>\n",
       "      <td>13.60</td>\n",
       "      <td>78607.9</td>\n",
       "    </tr>\n",
       "    <tr>\n",
       "      <th>10</th>\n",
       "      <td>KGS</td>\n",
       "      <td>77.0</td>\n",
       "      <td>12.00</td>\n",
       "      <td>2327.4</td>\n",
       "    </tr>\n",
       "    <tr>\n",
       "      <th>11</th>\n",
       "      <td>KZT</td>\n",
       "      <td>5.0</td>\n",
       "      <td>10.50</td>\n",
       "      <td>394216.9</td>\n",
       "    </tr>\n",
       "    <tr>\n",
       "      <th>4</th>\n",
       "      <td>BYN</td>\n",
       "      <td>1.0</td>\n",
       "      <td>2.20</td>\n",
       "      <td>66.6</td>\n",
       "    </tr>\n",
       "    <tr>\n",
       "      <th>0</th>\n",
       "      <td>AED</td>\n",
       "      <td>2.0</td>\n",
       "      <td>1.90</td>\n",
       "      <td>3.8</td>\n",
       "    </tr>\n",
       "  </tbody>\n",
       "</table>\n",
       "</div>"
      ],
      "text/plain": [
       "   code  amount_cnt  amount_mean_usd  refill_sum_usd\n",
       "16  PKR         1.0           720.00           720.0\n",
       "14  NOK         4.0           277.30           725.0\n",
       "5   CAD         8.0           194.60        110388.2\n",
       "12  LKR         6.0            85.00           559.1\n",
       "1   AZN         3.0            59.00        457273.8\n",
       "7   EUR         3.0            55.50        894373.0\n",
       "2   BDT        20.5            42.00          2586.8\n",
       "13  MXN         1.5            40.80          1217.9\n",
       "21  USD         3.0            40.00         53508.0\n",
       "9   INR        26.0            36.00      14355957.3\n",
       "15  NPR       820.0            33.80         29310.9\n",
       "22  UZS        10.0            31.20        251573.6\n",
       "17  PLN         9.0            24.45        775050.6\n",
       "6   CZK         3.5            18.70         53894.1\n",
       "20  UAH        45.5            18.00        307899.4\n",
       "3   BRL         1.0            18.00         23656.7\n",
       "18  RUB        10.0            15.00       1828377.5\n",
       "19  TRY         6.0            14.50       2674206.1\n",
       "8   HUF         9.0            13.60         78607.9\n",
       "10  KGS        77.0            12.00          2327.4\n",
       "11  KZT         5.0            10.50        394216.9\n",
       "4   BYN         1.0             2.20            66.6\n",
       "0   AED         2.0             1.90             3.8"
      ]
     },
     "execution_count": 21,
     "metadata": {},
     "output_type": "execute_result"
    }
   ],
   "source": [
    "#сортируем данные\n",
    "sorted_amount = refill_pivot.sort_values(by='amount_mean_usd', ascending=False)\n",
    "\n",
    "sorted_amount"
   ]
  },
  {
   "cell_type": "code",
   "execution_count": 22,
   "id": "590a7450-dcd8-42d0-ab36-9354bba8879c",
   "metadata": {},
   "outputs": [
    {
     "data": {
      "image/png": "[encoded data removed]",
      "text/plain": [
       "<Figure size 1200x600 with 2 Axes>"
      ]
     },
     "metadata": {},
     "output_type": "display_data"
    }
   ],
   "source": [
    "sorted_amount = refill_pivot.sort_values(by='amount_mean_usd', ascending=True)\n",
    "\n",
    "#держим в голове, что у NPR критически много депозитов, с ней визуализация не будет корректно читаться\n",
    "sorted_amount = sorted_amount[sorted_amount['code']!='NPR'] \n",
    "\n",
    "#строим графики\n",
    "fig, (ax1, ax2) = plt.subplots(nrows=1, ncols=2, figsize=(12, 6))\n",
    "\n",
    "ax1.barh(sorted_amount['code'], sorted_amount['amount_mean_usd'], color='red', alpha=0.6)\n",
    "ax1.set_xlabel('Средняя сумма депозитов')\n",
    "ax1.set_title('Средняя сумма депозитов по валютам')\n",
    "ax1.grid(axis='x', linestyle='--', alpha=0.6)\n",
    "\n",
    "ax2.barh(sorted_amount['code'], sorted_amount['amount_cnt'], color='blue', alpha=0.6)\n",
    "ax2.set_xlabel('Среднее число депозитов')\n",
    "ax2.set_title('Среднее число пополнений по валютам')\n",
    "ax2.grid(axis='x', linestyle='--', alpha=0.6)\n",
    "\n",
    "plt.suptitle('Депозиты по валютам')\n",
    "\n",
    "plt.tight_layout()\n",
    "plt.show()"
   ]
  },
  {
   "cell_type": "markdown",
   "id": "286cf2d8-1e55-4f3a-bba9-6939b19de277",
   "metadata": {},
   "source": [
    "Для наиболее фродовых валют (INR, RUB, TRY) характерны некрупные средние суммы депозитов и большое количество попыток пополнить баланс. Например, для типичного игрока в RUB в среднем сумма депозита равняется 15 долларов, а пополняет баланс он примерно 10 раз до того, как получит блокировку за чарджи. Для клиента TRY схожие показатели: в среднем пополняет 14,5 долларов по 6-7 раз. А игроки INR совершают много пополнений на суммы в среднем 36 долларов, за счет чего и складывается наибольшая сумма всех депозитов игроков в этой валюте.\n",
    "\n",
    "Есть и аномалии в этом плане: PKR и NOK, которые в среднем пополняются по несколько раз на невероятно крупные суммы (720 и 200 долларов), также и наоборот в валютах KGS и UAH, пополнявшие свой баланс 77 и 45 раз, но по 12 и 18 долларов соответственно. NPR же является абсолютной аномалией - 820 удачных пополнений на среднюю сумму 33,8 долларов. Пополнений в этих валютах много, суммы иногда больше, чем у самых фродовых валют, но так как доля этих валют ничтожно мала, то фокусироваться на них в рамках этого анализа не будем."
   ]
  },
  {
   "cell_type": "markdown",
   "id": "f37cb473-1c2c-43bc-aec2-b1857729f7d0",
   "metadata": {},
   "source": [
    "### Методы пополнений\n",
    "\n",
    "Рассмотрим самые популярные валюты *INR, TRY, RUB* и определим характерные методы пополнения для них. Посчитаем доли пользователей для каждого метода и найдем сколько пополнялось депозитов в долларах. Кроме того, найдем, сколько методов пополнения используют игроки в каждой валюте."
   ]
  },
  {
   "cell_type": "markdown",
   "id": "b3d116c4-0b25-4070-8178-e4b039ff48da",
   "metadata": {},
   "source": [
    "#### Число методов\n",
    "\n",
    "Описательная статистика распределения количества методов пополнения для каждого клиента поможет нам взглянуть на то, как основная масса фродеров пополняется в разных валютах."
   ]
  },
  {
   "cell_type": "code",
   "execution_count": 23,
   "id": "bf7c419e-4bcf-41b1-89f6-18b6544aa3be",
   "metadata": {},
   "outputs": [
    {
     "data": {
      "text/html": [
       "<div>\n",
       "<style scoped>\n",
       "    .dataframe tbody tr th:only-of-type {\n",
       "        vertical-align: middle;\n",
       "    }\n",
       "\n",
       "    .dataframe tbody tr th {\n",
       "        vertical-align: top;\n",
       "    }\n",
       "\n",
       "    .dataframe thead th {\n",
       "        text-align: right;\n",
       "    }\n",
       "</style>\n",
       "<table border=\"1\" class=\"dataframe\">\n",
       "  <thead>\n",
       "    <tr style=\"text-align: right;\">\n",
       "      <th></th>\n",
       "      <th>provider_methods_RUB</th>\n",
       "      <th>provider_methods_TRY</th>\n",
       "      <th>provider_methods_INR</th>\n",
       "    </tr>\n",
       "  </thead>\n",
       "  <tbody>\n",
       "    <tr>\n",
       "      <th>count</th>\n",
       "      <td>588.000000</td>\n",
       "      <td>1968.000000</td>\n",
       "      <td>1209.000000</td>\n",
       "    </tr>\n",
       "    <tr>\n",
       "      <th>mean</th>\n",
       "      <td>2.775510</td>\n",
       "      <td>1.935467</td>\n",
       "      <td>6.153846</td>\n",
       "    </tr>\n",
       "    <tr>\n",
       "      <th>std</th>\n",
       "      <td>3.385601</td>\n",
       "      <td>1.734955</td>\n",
       "      <td>6.231820</td>\n",
       "    </tr>\n",
       "    <tr>\n",
       "      <th>min</th>\n",
       "      <td>0.000000</td>\n",
       "      <td>1.000000</td>\n",
       "      <td>0.000000</td>\n",
       "    </tr>\n",
       "    <tr>\n",
       "      <th>25%</th>\n",
       "      <td>1.000000</td>\n",
       "      <td>1.000000</td>\n",
       "      <td>2.000000</td>\n",
       "    </tr>\n",
       "    <tr>\n",
       "      <th>50%</th>\n",
       "      <td>2.000000</td>\n",
       "      <td>1.000000</td>\n",
       "      <td>4.000000</td>\n",
       "    </tr>\n",
       "    <tr>\n",
       "      <th>75%</th>\n",
       "      <td>3.000000</td>\n",
       "      <td>2.000000</td>\n",
       "      <td>9.000000</td>\n",
       "    </tr>\n",
       "    <tr>\n",
       "      <th>max</th>\n",
       "      <td>29.000000</td>\n",
       "      <td>19.000000</td>\n",
       "      <td>37.000000</td>\n",
       "    </tr>\n",
       "  </tbody>\n",
       "</table>\n",
       "</div>"
      ],
      "text/plain": [
       "       provider_methods_RUB  provider_methods_TRY  provider_methods_INR\n",
       "count            588.000000           1968.000000           1209.000000\n",
       "mean               2.775510              1.935467              6.153846\n",
       "std                3.385601              1.734955              6.231820\n",
       "min                0.000000              1.000000              0.000000\n",
       "25%                1.000000              1.000000              2.000000\n",
       "50%                2.000000              1.000000              4.000000\n",
       "75%                3.000000              2.000000              9.000000\n",
       "max               29.000000             19.000000             37.000000"
      ]
     },
     "execution_count": 23,
     "metadata": {},
     "output_type": "execute_result"
    }
   ],
   "source": [
    "#создадим три датасета с числом уникальных методов для каждого игрока в валюте\n",
    "d1 = (refill[refill['code'] == 'RUB'].groupby(['user_id'], as_index=False)\n",
    "      .agg({'provider_method': 'nunique'}))\n",
    "\n",
    "d2 = (refill[refill['code'] == 'TRY'].groupby(['user_id'], as_index=False)\n",
    "      .agg({'provider_method': 'nunique'}))\n",
    "\n",
    "d3 = (refill[refill['code'] == 'INR'].groupby(['user_id'], as_index=False)\n",
    "      .agg({'provider_method': 'nunique'}))\n",
    "\n",
    "d1.rename(columns={'provider_method': 'provider_methods_RUB'}, inplace=True)\n",
    "d2.rename(columns={'provider_method': 'provider_methods_TRY'}, inplace=True)\n",
    "d3.rename(columns={'provider_method': 'provider_methods_INR'}, inplace=True)\n",
    "\n",
    "#объединим в один датасет и посмотрим на распределение\n",
    "combined_d = d1.merge(d2, on='user_id', how='outer')\n",
    "combined_d = combined_d.merge(d3, on='user_id', how='outer')\n",
    "\n",
    "combined_d[['provider_methods_RUB', 'provider_methods_TRY', 'provider_methods_INR']].describe()"
   ]
  },
  {
   "cell_type": "markdown",
   "id": "fe8ba771-6be2-4361-93ee-6319b9f909d3",
   "metadata": {},
   "source": [
    "Для 75% игроков в валюте RUB характерно пополнение баланса 1-3 способами, но есть и те, кто использовал до 29 способов, всего 588 методов, что в несколько раз меньше, чем у TRY и INR. Для TRY характерно такое же поведение, когда 75% игроков пополняются 1-2 способами, и небольшая часть доходит до 19. Однако у TRY больше всего методов пополнения в общем - 1968, почти в четыре раза больше, чем у RUB и почти в два раза больше, чем у INR (1209). Отличается в этом ряду поведение игроков INR, 75% которых пополняют баланс до 9 способов, а максимальное количество - 37."
   ]
  },
  {
   "cell_type": "markdown",
   "id": "797bde46-4879-47e4-82b2-c84b754c81f6",
   "metadata": {},
   "source": [
    "#### Популярные методы пополнения баланса\n",
    "\n",
    "Теперь составим список популярных методов пополнения для каждой валюты. Здесь рассчитаем сумму всех депозитов по способам пополнения, а также доли пользователей и их количество."
   ]
  },
  {
   "cell_type": "markdown",
   "id": "43b63073-adef-44a0-8cef-20697e1f22d3",
   "metadata": {},
   "source": [
    "##### Топ 15 способов пополнения для RUB"
   ]
  },
  {
   "cell_type": "code",
   "execution_count": 24,
   "id": "374a4432-0202-44a2-9b58-132af9b72790",
   "metadata": {},
   "outputs": [
    {
     "data": {
      "text/html": [
       "<div>\n",
       "<style scoped>\n",
       "    .dataframe tbody tr th:only-of-type {\n",
       "        vertical-align: middle;\n",
       "    }\n",
       "\n",
       "    .dataframe tbody tr th {\n",
       "        vertical-align: top;\n",
       "    }\n",
       "\n",
       "    .dataframe thead th {\n",
       "        text-align: right;\n",
       "    }\n",
       "</style>\n",
       "<table border=\"1\" class=\"dataframe\">\n",
       "  <thead>\n",
       "    <tr style=\"text-align: right;\">\n",
       "      <th></th>\n",
       "      <th>provider_method</th>\n",
       "      <th>amount_usd</th>\n",
       "      <th>user_id</th>\n",
       "      <th>user_percentage</th>\n",
       "    </tr>\n",
       "  </thead>\n",
       "  <tbody>\n",
       "    <tr>\n",
       "      <th>0</th>\n",
       "      <td>PAYMENT_PROVIDER_COREFY_TYPE_MIR</td>\n",
       "      <td>713093.7</td>\n",
       "      <td>447</td>\n",
       "      <td>27.4</td>\n",
       "    </tr>\n",
       "    <tr>\n",
       "      <th>1</th>\n",
       "      <td>PAYMENT_PROVIDER_COREFY_TYPE_VISA</td>\n",
       "      <td>220535.2</td>\n",
       "      <td>133</td>\n",
       "      <td>8.1</td>\n",
       "    </tr>\n",
       "    <tr>\n",
       "      <th>2</th>\n",
       "      <td>PAYMENT_PROVIDER_KIBERPAY_TYPE_KIBERPAY_P2P</td>\n",
       "      <td>219241.1</td>\n",
       "      <td>134</td>\n",
       "      <td>8.2</td>\n",
       "    </tr>\n",
       "    <tr>\n",
       "      <th>3</th>\n",
       "      <td>PAYMENT_PROVIDER_COREFY_TYPE_MASTERCARD</td>\n",
       "      <td>198027.4</td>\n",
       "      <td>122</td>\n",
       "      <td>7.5</td>\n",
       "    </tr>\n",
       "    <tr>\n",
       "      <th>4</th>\n",
       "      <td>PAYMENT_PROVIDER_MAJORPAY_TYPE_SBP</td>\n",
       "      <td>125079.5</td>\n",
       "      <td>52</td>\n",
       "      <td>3.2</td>\n",
       "    </tr>\n",
       "    <tr>\n",
       "      <th>5</th>\n",
       "      <td>PAYMENT_PROVIDER_MAJORPAY_TYPE_P2P</td>\n",
       "      <td>33305.5</td>\n",
       "      <td>35</td>\n",
       "      <td>2.1</td>\n",
       "    </tr>\n",
       "    <tr>\n",
       "      <th>6</th>\n",
       "      <td>PAYMENT_PROVIDER_OCTOPAY_TYPE_CREDIT_CARD_OCTO...</td>\n",
       "      <td>26196.0</td>\n",
       "      <td>31</td>\n",
       "      <td>1.9</td>\n",
       "    </tr>\n",
       "    <tr>\n",
       "      <th>7</th>\n",
       "      <td>PAYMENT_PROVIDER_PIMPAY_TYPE_VISA</td>\n",
       "      <td>24506.6</td>\n",
       "      <td>20</td>\n",
       "      <td>1.2</td>\n",
       "    </tr>\n",
       "    <tr>\n",
       "      <th>8</th>\n",
       "      <td>PAYMENT_PROVIDER_EXPAY_TYPE_EXPAY_P2P_GREENBACK</td>\n",
       "      <td>23208.1</td>\n",
       "      <td>11</td>\n",
       "      <td>0.7</td>\n",
       "    </tr>\n",
       "    <tr>\n",
       "      <th>9</th>\n",
       "      <td>PAYMENT_PROVIDER_PIMPAY_TYPE_MASTERCARD</td>\n",
       "      <td>22389.2</td>\n",
       "      <td>20</td>\n",
       "      <td>1.2</td>\n",
       "    </tr>\n",
       "    <tr>\n",
       "      <th>10</th>\n",
       "      <td>credit_card</td>\n",
       "      <td>21501.2</td>\n",
       "      <td>12</td>\n",
       "      <td>0.7</td>\n",
       "    </tr>\n",
       "    <tr>\n",
       "      <th>11</th>\n",
       "      <td>PAYMENT_PROVIDER_AIFORY_TYPE_VISA_P2P</td>\n",
       "      <td>21257.4</td>\n",
       "      <td>19</td>\n",
       "      <td>1.2</td>\n",
       "    </tr>\n",
       "    <tr>\n",
       "      <th>12</th>\n",
       "      <td>PAYMENT_PROVIDER_REPAY_TYPE_SBERPAY</td>\n",
       "      <td>17874.7</td>\n",
       "      <td>32</td>\n",
       "      <td>2.0</td>\n",
       "    </tr>\n",
       "    <tr>\n",
       "      <th>13</th>\n",
       "      <td>PAYMENT_PROVIDER_PIMPAY_TYPE_MIR</td>\n",
       "      <td>12405.5</td>\n",
       "      <td>8</td>\n",
       "      <td>0.5</td>\n",
       "    </tr>\n",
       "    <tr>\n",
       "      <th>14</th>\n",
       "      <td>PAYMENT_PROVIDER_OCTOPAY_TYPE_CREDIT_CARD_OCTO...</td>\n",
       "      <td>9809.7</td>\n",
       "      <td>7</td>\n",
       "      <td>0.4</td>\n",
       "    </tr>\n",
       "  </tbody>\n",
       "</table>\n",
       "</div>"
      ],
      "text/plain": [
       "                                      provider_method  amount_usd  user_id  \\\n",
       "0                    PAYMENT_PROVIDER_COREFY_TYPE_MIR    713093.7      447   \n",
       "1                   PAYMENT_PROVIDER_COREFY_TYPE_VISA    220535.2      133   \n",
       "2         PAYMENT_PROVIDER_KIBERPAY_TYPE_KIBERPAY_P2P    219241.1      134   \n",
       "3             PAYMENT_PROVIDER_COREFY_TYPE_MASTERCARD    198027.4      122   \n",
       "4                  PAYMENT_PROVIDER_MAJORPAY_TYPE_SBP    125079.5       52   \n",
       "5                  PAYMENT_PROVIDER_MAJORPAY_TYPE_P2P     33305.5       35   \n",
       "6   PAYMENT_PROVIDER_OCTOPAY_TYPE_CREDIT_CARD_OCTO...     26196.0       31   \n",
       "7                   PAYMENT_PROVIDER_PIMPAY_TYPE_VISA     24506.6       20   \n",
       "8     PAYMENT_PROVIDER_EXPAY_TYPE_EXPAY_P2P_GREENBACK     23208.1       11   \n",
       "9             PAYMENT_PROVIDER_PIMPAY_TYPE_MASTERCARD     22389.2       20   \n",
       "10                                        credit_card     21501.2       12   \n",
       "11              PAYMENT_PROVIDER_AIFORY_TYPE_VISA_P2P     21257.4       19   \n",
       "12                PAYMENT_PROVIDER_REPAY_TYPE_SBERPAY     17874.7       32   \n",
       "13                   PAYMENT_PROVIDER_PIMPAY_TYPE_MIR     12405.5        8   \n",
       "14  PAYMENT_PROVIDER_OCTOPAY_TYPE_CREDIT_CARD_OCTO...      9809.7        7   \n",
       "\n",
       "    user_percentage  \n",
       "0              27.4  \n",
       "1               8.1  \n",
       "2               8.2  \n",
       "3               7.5  \n",
       "4               3.2  \n",
       "5               2.1  \n",
       "6               1.9  \n",
       "7               1.2  \n",
       "8               0.7  \n",
       "9               1.2  \n",
       "10              0.7  \n",
       "11              1.2  \n",
       "12              2.0  \n",
       "13              0.5  \n",
       "14              0.4  "
      ]
     },
     "execution_count": 24,
     "metadata": {},
     "output_type": "execute_result"
    }
   ],
   "source": [
    "refill_rub = refill[refill['code']=='RUB']\n",
    "\n",
    "refill_rub['amount_usd'] = round(refill_rub['amount'] * 0.01, 1)\n",
    "\n",
    "refill_rub = (refill_rub.groupby(['provider_method'], as_index=False)\n",
    "             .agg({'amount_usd':'sum',\n",
    "                  'user_id':'nunique'})\n",
    "             .sort_values(by='amount_usd', ascending=False)\n",
    "             .reset_index(drop=True))\n",
    "\n",
    "#посчитаем процент игроков для каждого метода\n",
    "refill_rub['user_percentage'] = round((refill_rub['user_id'] / refill_rub['user_id'].sum()) * 100, 1)\n",
    "\n",
    "refill_rub.head(15)"
   ]
  },
  {
   "cell_type": "markdown",
   "id": "60483ac4-e84a-463c-b4a1-dc0e8ab5624e",
   "metadata": {},
   "source": [
    "Топ 15 методов пополнения по сумме всех пополнений возглавляет PAYMENT_PROVIDER_COREFY_TYPE_MIR - 713,093 долларов. Им пользуется 27,4% всех игроков в валюте RUB. Также в список вошли методы пополнения баланса с различных карт, криптокошельков и п2п. Лидерство остается за карточными методами."
   ]
  },
  {
   "cell_type": "markdown",
   "id": "70219d31-c031-40dd-b0bb-80120420dcac",
   "metadata": {},
   "source": [
    "##### Топ 15 способов пополнения для TRY"
   ]
  },
  {
   "cell_type": "code",
   "execution_count": 25,
   "id": "dc1ad680-e17e-4a72-b780-42849d1c3d34",
   "metadata": {},
   "outputs": [
    {
     "data": {
      "text/html": [
       "<div>\n",
       "<style scoped>\n",
       "    .dataframe tbody tr th:only-of-type {\n",
       "        vertical-align: middle;\n",
       "    }\n",
       "\n",
       "    .dataframe tbody tr th {\n",
       "        vertical-align: top;\n",
       "    }\n",
       "\n",
       "    .dataframe thead th {\n",
       "        text-align: right;\n",
       "    }\n",
       "</style>\n",
       "<table border=\"1\" class=\"dataframe\">\n",
       "  <thead>\n",
       "    <tr style=\"text-align: right;\">\n",
       "      <th></th>\n",
       "      <th>provider_method</th>\n",
       "      <th>amount_usd</th>\n",
       "      <th>user_id</th>\n",
       "      <th>user_percentage</th>\n",
       "    </tr>\n",
       "  </thead>\n",
       "  <tbody>\n",
       "    <tr>\n",
       "      <th>0</th>\n",
       "      <td>PAYMENT_PROVIDER_COREFY_TYPE_MASTERCARD</td>\n",
       "      <td>1005063.7</td>\n",
       "      <td>1585</td>\n",
       "      <td>41.6</td>\n",
       "    </tr>\n",
       "    <tr>\n",
       "      <th>1</th>\n",
       "      <td>PAYMENT_PROVIDER_PAYHERA_TYPE_PAPARA</td>\n",
       "      <td>540332.4</td>\n",
       "      <td>276</td>\n",
       "      <td>7.2</td>\n",
       "    </tr>\n",
       "    <tr>\n",
       "      <th>2</th>\n",
       "      <td>PAYMENT_PROVIDER_FIXTURKA_TYPE_PAYFIX</td>\n",
       "      <td>374352.6</td>\n",
       "      <td>225</td>\n",
       "      <td>5.9</td>\n",
       "    </tr>\n",
       "    <tr>\n",
       "      <th>3</th>\n",
       "      <td>PAYMENT_PROVIDER_JETPAYHUB_TYPE_BANK_TRANSFER</td>\n",
       "      <td>338271.4</td>\n",
       "      <td>288</td>\n",
       "      <td>7.6</td>\n",
       "    </tr>\n",
       "    <tr>\n",
       "      <th>4</th>\n",
       "      <td>PAYMENT_PROVIDER_COREFY_TYPE_VISA</td>\n",
       "      <td>185552.8</td>\n",
       "      <td>282</td>\n",
       "      <td>7.4</td>\n",
       "    </tr>\n",
       "    <tr>\n",
       "      <th>5</th>\n",
       "      <td>PAYMENT_PROVIDER_INSTAPAYS_TYPE_MASTERCARD</td>\n",
       "      <td>48241.5</td>\n",
       "      <td>304</td>\n",
       "      <td>8.0</td>\n",
       "    </tr>\n",
       "    <tr>\n",
       "      <th>6</th>\n",
       "      <td>PAYMENT_PROVIDER_OPTIPAY_TYPE_HAVALE</td>\n",
       "      <td>47058.8</td>\n",
       "      <td>138</td>\n",
       "      <td>3.6</td>\n",
       "    </tr>\n",
       "    <tr>\n",
       "      <th>7</th>\n",
       "      <td>PAYMENT_PROVIDER_LUQAPAY_TYPE_INSTANT_QR</td>\n",
       "      <td>25760.0</td>\n",
       "      <td>20</td>\n",
       "      <td>0.5</td>\n",
       "    </tr>\n",
       "    <tr>\n",
       "      <th>8</th>\n",
       "      <td>PAYMENT_PROVIDER_INSTAPAYS_TYPE_VISA</td>\n",
       "      <td>25075.6</td>\n",
       "      <td>159</td>\n",
       "      <td>4.2</td>\n",
       "    </tr>\n",
       "    <tr>\n",
       "      <th>9</th>\n",
       "      <td>PAYMENT_PROVIDER_BIRPAY_GATE_TYPE_BANKTOBANK__...</td>\n",
       "      <td>14729.4</td>\n",
       "      <td>48</td>\n",
       "      <td>1.3</td>\n",
       "    </tr>\n",
       "    <tr>\n",
       "      <th>10</th>\n",
       "      <td>PAYMENT_PROVIDER_OPTIPAY_TYPE_PAPARA</td>\n",
       "      <td>7317.4</td>\n",
       "      <td>20</td>\n",
       "      <td>0.5</td>\n",
       "    </tr>\n",
       "    <tr>\n",
       "      <th>11</th>\n",
       "      <td>credit_card_mastercard</td>\n",
       "      <td>6409.5</td>\n",
       "      <td>19</td>\n",
       "      <td>0.5</td>\n",
       "    </tr>\n",
       "    <tr>\n",
       "      <th>12</th>\n",
       "      <td>PAYMENT_PROVIDER_JOKERDEPAY_TYPE_HAVALE_EXTENDED</td>\n",
       "      <td>6356.7</td>\n",
       "      <td>13</td>\n",
       "      <td>0.3</td>\n",
       "    </tr>\n",
       "    <tr>\n",
       "      <th>13</th>\n",
       "      <td>PAYMENT_PROVIDER_ISETTLE_TYPE_CREDIT_CARD_VISA...</td>\n",
       "      <td>6297.6</td>\n",
       "      <td>56</td>\n",
       "      <td>1.5</td>\n",
       "    </tr>\n",
       "    <tr>\n",
       "      <th>14</th>\n",
       "      <td>PAYMENT_PROVIDER_ARTIPARA_TYPE_PAPARA_EXTENDED</td>\n",
       "      <td>5384.6</td>\n",
       "      <td>37</td>\n",
       "      <td>1.0</td>\n",
       "    </tr>\n",
       "  </tbody>\n",
       "</table>\n",
       "</div>"
      ],
      "text/plain": [
       "                                      provider_method  amount_usd  user_id  \\\n",
       "0             PAYMENT_PROVIDER_COREFY_TYPE_MASTERCARD   1005063.7     1585   \n",
       "1                PAYMENT_PROVIDER_PAYHERA_TYPE_PAPARA    540332.4      276   \n",
       "2               PAYMENT_PROVIDER_FIXTURKA_TYPE_PAYFIX    374352.6      225   \n",
       "3       PAYMENT_PROVIDER_JETPAYHUB_TYPE_BANK_TRANSFER    338271.4      288   \n",
       "4                   PAYMENT_PROVIDER_COREFY_TYPE_VISA    185552.8      282   \n",
       "5          PAYMENT_PROVIDER_INSTAPAYS_TYPE_MASTERCARD     48241.5      304   \n",
       "6                PAYMENT_PROVIDER_OPTIPAY_TYPE_HAVALE     47058.8      138   \n",
       "7            PAYMENT_PROVIDER_LUQAPAY_TYPE_INSTANT_QR     25760.0       20   \n",
       "8                PAYMENT_PROVIDER_INSTAPAYS_TYPE_VISA     25075.6      159   \n",
       "9   PAYMENT_PROVIDER_BIRPAY_GATE_TYPE_BANKTOBANK__...     14729.4       48   \n",
       "10               PAYMENT_PROVIDER_OPTIPAY_TYPE_PAPARA      7317.4       20   \n",
       "11                             credit_card_mastercard      6409.5       19   \n",
       "12   PAYMENT_PROVIDER_JOKERDEPAY_TYPE_HAVALE_EXTENDED      6356.7       13   \n",
       "13  PAYMENT_PROVIDER_ISETTLE_TYPE_CREDIT_CARD_VISA...      6297.6       56   \n",
       "14     PAYMENT_PROVIDER_ARTIPARA_TYPE_PAPARA_EXTENDED      5384.6       37   \n",
       "\n",
       "    user_percentage  \n",
       "0              41.6  \n",
       "1               7.2  \n",
       "2               5.9  \n",
       "3               7.6  \n",
       "4               7.4  \n",
       "5               8.0  \n",
       "6               3.6  \n",
       "7               0.5  \n",
       "8               4.2  \n",
       "9               1.3  \n",
       "10              0.5  \n",
       "11              0.5  \n",
       "12              0.3  \n",
       "13              1.5  \n",
       "14              1.0  "
      ]
     },
     "execution_count": 25,
     "metadata": {},
     "output_type": "execute_result"
    }
   ],
   "source": [
    "refill_try = refill[refill['code']=='TRY']\n",
    "\n",
    "refill_try['amount_usd'] = round(refill_try['amount'] * 0.029, 1)\n",
    "\n",
    "refill_try = (refill_try.groupby(['provider_method'], as_index=False)\n",
    "             .agg({'amount_usd':'sum',\n",
    "                  'user_id':'nunique'})\n",
    "             .sort_values(by='amount_usd', ascending=False)\n",
    "             .reset_index(drop=True))\n",
    "\n",
    "refill_try['user_percentage'] = round((refill_try['user_id'] / refill_try['user_id'].sum()) * 100, 1)\n",
    "\n",
    "refill_try.head(15)"
   ]
  },
  {
   "cell_type": "markdown",
   "id": "374232c6-3650-4512-9e02-df5d5ebd636d",
   "metadata": {},
   "source": [
    "Для турецких лир способ PAYMENT_PROVIDER_COREFY_TYPE_MASTERCARD является основным методом по сумме пополнений - 1,005,063 долларов, им пользуется 41,6% - почти половина всех клиентов в валюте TRY. В меньшей мере фродеры пополняются местными способами PAYMENT_PROVIDER_PAYHERA_TYPE_PAPARA (7,2%), PAYMENT_PROVIDER_FIXTURKA_TYPE_PAYFIX (5,9%), PAYMENT_PROVIDER_JETPAYHUB_TYPE_BANK_TRANSFER (7,6%). В целом, в списке популярны как местные кошельки, так и карточные методы пополнения, а криптокошельки в топ не вошли."
   ]
  },
  {
   "cell_type": "markdown",
   "id": "6cdbb469-f97f-4eb7-ab1b-81f2351a08f4",
   "metadata": {},
   "source": [
    "##### Топ 15 способов пополнения для INR"
   ]
  },
  {
   "cell_type": "code",
   "execution_count": 26,
   "id": "49241573-47ba-44ec-abc4-e8a5ce4a1309",
   "metadata": {},
   "outputs": [
    {
     "data": {
      "text/html": [
       "<div>\n",
       "<style scoped>\n",
       "    .dataframe tbody tr th:only-of-type {\n",
       "        vertical-align: middle;\n",
       "    }\n",
       "\n",
       "    .dataframe tbody tr th {\n",
       "        vertical-align: top;\n",
       "    }\n",
       "\n",
       "    .dataframe thead th {\n",
       "        text-align: right;\n",
       "    }\n",
       "</style>\n",
       "<table border=\"1\" class=\"dataframe\">\n",
       "  <thead>\n",
       "    <tr style=\"text-align: right;\">\n",
       "      <th></th>\n",
       "      <th>provider_method</th>\n",
       "      <th>amount_usd</th>\n",
       "      <th>user_id</th>\n",
       "      <th>user_percentage</th>\n",
       "    </tr>\n",
       "  </thead>\n",
       "  <tbody>\n",
       "    <tr>\n",
       "      <th>0</th>\n",
       "      <td>PAYMENT_PROVIDER_BIRPAY_GATE_TYPE_UPI_BIRPAY</td>\n",
       "      <td>1817594.5</td>\n",
       "      <td>581</td>\n",
       "      <td>7.8</td>\n",
       "    </tr>\n",
       "    <tr>\n",
       "      <th>1</th>\n",
       "      <td>PAYMENT_PROVIDER_BIRPAY_GATE_TYPE_PAY_TM_BIRPAY</td>\n",
       "      <td>1761917.3</td>\n",
       "      <td>521</td>\n",
       "      <td>7.0</td>\n",
       "    </tr>\n",
       "    <tr>\n",
       "      <th>2</th>\n",
       "      <td>PAYMENT_PROVIDER_BIRPAY_GATE_TYPE_PHONEPE_BIRPAY</td>\n",
       "      <td>1659637.9</td>\n",
       "      <td>639</td>\n",
       "      <td>8.6</td>\n",
       "    </tr>\n",
       "    <tr>\n",
       "      <th>3</th>\n",
       "      <td>PAYMENT_PROVIDER_ALYCEPAY_TYPE_CHECKOUT</td>\n",
       "      <td>1608937.9</td>\n",
       "      <td>404</td>\n",
       "      <td>5.4</td>\n",
       "    </tr>\n",
       "    <tr>\n",
       "      <th>4</th>\n",
       "      <td>PAYMENT_PROVIDER_ALYCEPAY_TYPE_CHECKOUT_4</td>\n",
       "      <td>1371507.5</td>\n",
       "      <td>417</td>\n",
       "      <td>5.6</td>\n",
       "    </tr>\n",
       "    <tr>\n",
       "      <th>5</th>\n",
       "      <td>PAYMENT_PROVIDER_BIRPAY_GATE_TYPE_GPAY_BIRPAY</td>\n",
       "      <td>771818.8</td>\n",
       "      <td>495</td>\n",
       "      <td>6.7</td>\n",
       "    </tr>\n",
       "    <tr>\n",
       "      <th>6</th>\n",
       "      <td>PAYMENT_PROVIDER_COREFY_TYPE_VISA</td>\n",
       "      <td>580955.6</td>\n",
       "      <td>28</td>\n",
       "      <td>0.4</td>\n",
       "    </tr>\n",
       "    <tr>\n",
       "      <th>7</th>\n",
       "      <td>PAYMENT_PROVIDER_ALYCEPAY_TYPE_UPI_AUTOMATIC_2</td>\n",
       "      <td>328556.3</td>\n",
       "      <td>242</td>\n",
       "      <td>3.3</td>\n",
       "    </tr>\n",
       "    <tr>\n",
       "      <th>8</th>\n",
       "      <td>PAYMENT_PROVIDER_EPIQCASH_TYPE_EPIQCASH_UPI</td>\n",
       "      <td>266317.4</td>\n",
       "      <td>219</td>\n",
       "      <td>2.9</td>\n",
       "    </tr>\n",
       "    <tr>\n",
       "      <th>9</th>\n",
       "      <td>PAYMENT_PROVIDER_ALYCEPAY_TYPE_UPI_AUTOMATIC_1</td>\n",
       "      <td>262783.8</td>\n",
       "      <td>223</td>\n",
       "      <td>3.0</td>\n",
       "    </tr>\n",
       "    <tr>\n",
       "      <th>10</th>\n",
       "      <td>PAYMENT_PROVIDER_ALYCEPAY_TYPE_CHECKOUT_3</td>\n",
       "      <td>186129.8</td>\n",
       "      <td>218</td>\n",
       "      <td>2.9</td>\n",
       "    </tr>\n",
       "    <tr>\n",
       "      <th>11</th>\n",
       "      <td>PAYMENT_PROVIDER_BIRPAY_GATE_TYPE_AMAZONPAY_BI...</td>\n",
       "      <td>162186.4</td>\n",
       "      <td>81</td>\n",
       "      <td>1.1</td>\n",
       "    </tr>\n",
       "    <tr>\n",
       "      <th>12</th>\n",
       "      <td>PAYMENT_PROVIDER_ALYCEPAY_TYPE_CHECKOUT_1</td>\n",
       "      <td>158509.3</td>\n",
       "      <td>208</td>\n",
       "      <td>2.8</td>\n",
       "    </tr>\n",
       "    <tr>\n",
       "      <th>13</th>\n",
       "      <td>PAYMENT_PROVIDER_EPIQCASH_TYPE_CHECKOUT_EPIQCASH</td>\n",
       "      <td>155284.6</td>\n",
       "      <td>44</td>\n",
       "      <td>0.6</td>\n",
       "    </tr>\n",
       "    <tr>\n",
       "      <th>14</th>\n",
       "      <td>PAYMENT_PROVIDER_BIRPAY_GATE_TYPE_IMPS_BIRPAY</td>\n",
       "      <td>143260.4</td>\n",
       "      <td>105</td>\n",
       "      <td>1.4</td>\n",
       "    </tr>\n",
       "  </tbody>\n",
       "</table>\n",
       "</div>"
      ],
      "text/plain": [
       "                                      provider_method  amount_usd  user_id  \\\n",
       "0        PAYMENT_PROVIDER_BIRPAY_GATE_TYPE_UPI_BIRPAY   1817594.5      581   \n",
       "1     PAYMENT_PROVIDER_BIRPAY_GATE_TYPE_PAY_TM_BIRPAY   1761917.3      521   \n",
       "2    PAYMENT_PROVIDER_BIRPAY_GATE_TYPE_PHONEPE_BIRPAY   1659637.9      639   \n",
       "3             PAYMENT_PROVIDER_ALYCEPAY_TYPE_CHECKOUT   1608937.9      404   \n",
       "4           PAYMENT_PROVIDER_ALYCEPAY_TYPE_CHECKOUT_4   1371507.5      417   \n",
       "5       PAYMENT_PROVIDER_BIRPAY_GATE_TYPE_GPAY_BIRPAY    771818.8      495   \n",
       "6                   PAYMENT_PROVIDER_COREFY_TYPE_VISA    580955.6       28   \n",
       "7      PAYMENT_PROVIDER_ALYCEPAY_TYPE_UPI_AUTOMATIC_2    328556.3      242   \n",
       "8         PAYMENT_PROVIDER_EPIQCASH_TYPE_EPIQCASH_UPI    266317.4      219   \n",
       "9      PAYMENT_PROVIDER_ALYCEPAY_TYPE_UPI_AUTOMATIC_1    262783.8      223   \n",
       "10          PAYMENT_PROVIDER_ALYCEPAY_TYPE_CHECKOUT_3    186129.8      218   \n",
       "11  PAYMENT_PROVIDER_BIRPAY_GATE_TYPE_AMAZONPAY_BI...    162186.4       81   \n",
       "12          PAYMENT_PROVIDER_ALYCEPAY_TYPE_CHECKOUT_1    158509.3      208   \n",
       "13   PAYMENT_PROVIDER_EPIQCASH_TYPE_CHECKOUT_EPIQCASH    155284.6       44   \n",
       "14      PAYMENT_PROVIDER_BIRPAY_GATE_TYPE_IMPS_BIRPAY    143260.4      105   \n",
       "\n",
       "    user_percentage  \n",
       "0               7.8  \n",
       "1               7.0  \n",
       "2               8.6  \n",
       "3               5.4  \n",
       "4               5.6  \n",
       "5               6.7  \n",
       "6               0.4  \n",
       "7               3.3  \n",
       "8               2.9  \n",
       "9               3.0  \n",
       "10              2.9  \n",
       "11              1.1  \n",
       "12              2.8  \n",
       "13              0.6  \n",
       "14              1.4  "
      ]
     },
     "execution_count": 26,
     "metadata": {},
     "output_type": "execute_result"
    }
   ],
   "source": [
    "refill_inr = refill[refill['code']=='INR']\n",
    "\n",
    "refill_inr['amount_usd'] = round(refill_inr['amount'] * 0.012, 1)\n",
    "\n",
    "refill_inr = (refill_inr.groupby(['provider_method'], as_index=False)\n",
    "             .agg({'amount_usd':'sum',\n",
    "                  'user_id':'nunique'})\n",
    "             .sort_values(by='amount_usd', ascending=False)\n",
    "             .reset_index(drop=True))\n",
    "\n",
    "refill_inr['user_percentage'] = round((refill_inr['user_id'] / refill_inr['user_id'].sum()) * 100, 1)\n",
    "\n",
    "refill_inr.head(15)"
   ]
  },
  {
   "cell_type": "markdown",
   "id": "da9ffbb4-ae53-4ffd-be99-e1aba25c929e",
   "metadata": {},
   "source": [
    "Среди способов пополнения баланса в INR, выделяющихся лидеров нет. Так как ранее выяснилось, что для этой валюты большинство клиентов в среднем используют до 9 способов пополнения, ожидаемы примерно одинаковые позиции топа по сумме пополнений и по долям игроков. Пятерка методов пополнений отражает практически равные суммы депозитов от 1,3 млн до 1,8 млн долларов. Клиенты пользуются этими методами в равных пропорциях 5-8% от числа всех фродеров в INR."
   ]
  },
  {
   "cell_type": "markdown",
   "id": "0221b9df-e716-4aa4-9b76-4ee703d12feb",
   "metadata": {},
   "source": [
    "## Выводы"
   ]
  },
  {
   "cell_type": "markdown",
   "id": "ad146357-7603-40c4-b7e0-4ad7015bfbb2",
   "metadata": {},
   "source": [
    "В ходе данного исследования были обнаружены валюты, с которых шел основной фрод чарджей за период с 2023-09-16 по 2024-09-16: TRY, INR, RUB. На эти валюты пришлось более 70% числа уникальных фродовых аккаунтов и более 19 млн долларов пополнений их балансов.\n",
    "\n",
    "Для валют были рассчитаны средние суммы депозитов и количества пополнений, что помогло составить портрет типичного клиента для определенной валюты.\n",
    "\n",
    "Для основных фродовых валют были найдены и детально рассмотрены списки топ способов пополнений балансов и провайдеров по сумме пополнений, и приведены число и доли игроков, пользующихся тем или иным провайдером.\n",
    "\n",
    "Найденная информация может быть использована для следующей проверки валют и провайдеров, через которые идет основной поток фрода чарджбек."
   ]
  }
 ],
 "metadata": {
  "kernelspec": {
   "display_name": "Python 3 (ipykernel)",
   "language": "python",
   "name": "python3"
  },
  "language_info": {
   "codemirror_mode": {
    "name": "ipython",
    "version": 3
   },
   "file_extension": ".py",
   "mimetype": "text/x-python",
   "name": "python",
   "nbconvert_exporter": "python",
   "pygments_lexer": "ipython3",
   "version": "3.10.14"
  },
  "panel-cell-order": [
   "5515dd3d",
   "ba014a53",
   "b81708d0",
   "8cb23414",
   "d9ff5eae",
   "d3fca95d",
   "7c47393b",
   "e7553e98",
   "61c4643b",
   "1a43974f",
   "9b6f3d1b",
   "935c6625",
   "a40832f2",
   "49154d73",
   "3f0e51fa",
   "3bbe4da2",
   "0f19725b",
   "74f9ca8c",
   "cf997f07",
   "217de0c2",
   "504301ec",
   "afac34b2",
   "067c1635",
   "b3a5516b",
   "b54ae5f5",
   "707d3bab"
  ],
  "toc": {
   "base_numbering": 1,
   "nav_menu": {},
   "number_sections": true,
   "sideBar": true,
   "skip_h1_title": true,
   "title_cell": "Table of Contents",
   "title_sidebar": "Contents",
   "toc_cell": false,
   "toc_position": {
    "height": "calc(100% - 180px)",
    "left": "10px",
    "top": "150px",
    "width": "232px"
   },
   "toc_section_display": true,
   "toc_window_display": true
  }
 },
 "nbformat": 4,
 "nbformat_minor": 5
}
